{
 "cells": [
  {
   "cell_type": "markdown",
   "metadata": {},
   "source": [
    "# Más tipos de datos\n",
    "\n",
    "La clase pasada vimos strings (texto), integers (números enteros) y floats (números racionales). También vimos los booleanos, un tipo de dato que puede tomar los valores True or False.\n",
    "\n",
    "Repasemos un poco:"
   ]
  },
  {
   "cell_type": "code",
   "execution_count": 1,
   "metadata": {},
   "outputs": [
    {
     "name": "stdout",
     "output_type": "stream",
     "text": [
      "<class 'str'>\n",
      "<class 'int'>\n",
      "<class 'float'>\n",
      "<class 'bool'>\n"
     ]
    }
   ],
   "source": [
    "nombre = \"Juanito Laguna\"\n",
    "\n",
    "edad = 13\n",
    "\n",
    "altura = 1.40\n",
    "\n",
    "va_a_la_escuela = False\n",
    "\n",
    "print(type(nombre))\n",
    "print(type(edad))\n",
    "print(type(altura))\n",
    "print(type(va_a_la_escuela))"
   ]
  },
  {
   "cell_type": "code",
   "execution_count": 2,
   "metadata": {},
   "outputs": [],
   "source": [
    "# Ejemplo if/elif/else"
   ]
  },
  {
   "cell_type": "markdown",
   "metadata": {},
   "source": [
    "# Iterables: listas y strings"
   ]
  },
  {
   "cell_type": "markdown",
   "metadata": {},
   "source": [
    "En Python las listas de elementos se escriben entre corchetes, con sus elementos separados por comas:"
   ]
  },
  {
   "cell_type": "code",
   "execution_count": 3,
   "metadata": {},
   "outputs": [
    {
     "name": "stdout",
     "output_type": "stream",
     "text": [
      "<class 'list'>\n",
      "[1, 2, 3, 4]\n"
     ]
    }
   ],
   "source": [
    "lista = [1, 2, 3, 4]\n",
    "print(type(lista))\n",
    "print(lista)"
   ]
  },
  {
   "cell_type": "markdown",
   "metadata": {},
   "source": [
    "No es necesario que todos los elementos de una lista tengan el mismo tipo, incluso estos elementos pueden a su vez ser listas:"
   ]
  },
  {
   "cell_type": "code",
   "execution_count": 4,
   "metadata": {},
   "outputs": [
    {
     "name": "stdout",
     "output_type": "stream",
     "text": [
      "[1, 'IEEEXtreme', 3.14]\n",
      "[[1, 2], [1, 'IEEEXtreme', 3.14]]\n"
     ]
    }
   ],
   "source": [
    "lista_variada = [1, \"IEEEXtreme\", 3.14]\n",
    "print(lista_variada)\n",
    "lista_de_listas = [[1 ,2], lista_variada]\n",
    "print(lista_de_listas)"
   ]
  },
  {
   "cell_type": "markdown",
   "metadata": {},
   "source": [
    "Ok, puedo armar listas para guardar diferentes variables que necesito en mi problema; ¿Cómo agarro un elemento en particular?. Los elementos se guardan en orden, empezando a contar de cero, entonces si quiero el primer elemento de mi lista busco el elemento que corresponde al índice 0 así:"
   ]
  },
  {
   "cell_type": "code",
   "execution_count": 5,
   "metadata": {},
   "outputs": [
    {
     "name": "stdout",
     "output_type": "stream",
     "text": [
      "1\n",
      "IEEEXtreme\n"
     ]
    }
   ],
   "source": [
    "primer_elemento = lista_variada[0]\n",
    "segundo_elemento = lista_variada[1]\n",
    "print(primer_elemento)\n",
    "print(segundo_elemento)"
   ]
  },
  {
   "cell_type": "markdown",
   "metadata": {},
   "source": [
    "Usando índices negativos podemos empezar a contar de atrás para adelante. Por ejemplo, el índice -1 es el último elemento de una lista, -2 el anteúltimo, etc."
   ]
  },
  {
   "cell_type": "code",
   "execution_count": 6,
   "metadata": {},
   "outputs": [
    {
     "name": "stdout",
     "output_type": "stream",
     "text": [
      "3.14\n",
      "True\n"
     ]
    }
   ],
   "source": [
    "último = lista_variada[-1]\n",
    "print(último)\n",
    "# Como la lista tiene 3 elementos, el último elemento es lo mismo que el de índice 2\n",
    "print(último == lista_variada[2])"
   ]
  },
  {
   "cell_type": "markdown",
   "metadata": {},
   "source": [
    "También se pueden tomar secciones o slices de una lista. Por ejemplo, si quiero todos los elementos entre el cuarto y el sexto puedo hacer:"
   ]
  },
  {
   "cell_type": "code",
   "execution_count": 7,
   "metadata": {},
   "outputs": [
    {
     "name": "stdout",
     "output_type": "stream",
     "text": [
      "[0, 1, 2, 3, 4, 5, 6, 7, 8, 9]\n",
      "[4, 5, 6]\n"
     ]
    }
   ],
   "source": [
    "# La función range devuelve un iterador con los números entre 0 y 9, list() lo convierte en una lista \n",
    "lista = list(range(10))\n",
    "print(lista)\n",
    "lista_slice = lista[4:7]\n",
    "print(lista_slice)"
   ]
  },
  {
   "cell_type": "markdown",
   "metadata": {},
   "source": [
    "Fíjense que cuando se hace un slice, éste incluye al índice de la izquierda pero excluye al de la derecha; es decir, en el ejemplo anterior queríamos los elementos con índice del 4 al 6, pero no pusimos lista[4:6], porque eso nos daría sólo el 4 y el 5."
   ]
  },
  {
   "cell_type": "markdown",
   "metadata": {},
   "source": [
    "Si queremos saber si un elemento pertenece o no a una lista, usamos `in`"
   ]
  },
  {
   "cell_type": "code",
   "execution_count": 8,
   "metadata": {},
   "outputs": [
    {
     "name": "stdout",
     "output_type": "stream",
     "text": [
      "True\n",
      "False\n"
     ]
    }
   ],
   "source": [
    "print(3.14 in lista_variada)\n",
    "print(\"Hola\" in lista_variada)"
   ]
  },
  {
   "cell_type": "markdown",
   "metadata": {},
   "source": [
    "Para obtener la cantidad de elementos de una lista (su longitud) tenemos la funcion `len`. Para agregar elementos indivudales a una lista usamos el método `append`, para concatenar dos listas usamos `+`."
   ]
  },
  {
   "cell_type": "code",
   "execution_count": 9,
   "metadata": {},
   "outputs": [
    {
     "name": "stdout",
     "output_type": "stream",
     "text": [
      "3\n",
      "5\n"
     ]
    }
   ],
   "source": [
    "print(len(lista_variada))\n",
    "print(len([0, 1, 2, 3, 4]))"
   ]
  },
  {
   "cell_type": "code",
   "execution_count": 10,
   "metadata": {},
   "outputs": [
    {
     "name": "stdout",
     "output_type": "stream",
     "text": [
      "[]\n",
      "0\n",
      "['IEEE']\n",
      "1\n"
     ]
    }
   ],
   "source": [
    "# [] es la lista vacía, no tiene ningún elemento\n",
    "empty = []\n",
    "print(empty)\n",
    "print(len(empty))\n",
    "\n",
    "# append modifica a la lista *in place*, es decir que después de este append la variable empty ya no es más la lista vacía. Cuidado con esto.\n",
    "empty.append(\"IEEE\")\n",
    "print(empty)\n",
    "print(len(empty))"
   ]
  },
  {
   "cell_type": "code",
   "execution_count": 11,
   "metadata": {},
   "outputs": [
    {
     "name": "stdout",
     "output_type": "stream",
     "text": [
      "[1, 'IEEEXtreme', 3.14, 0, 1, 2, 3, 4, 5]\n"
     ]
    }
   ],
   "source": [
    "concat = lista_variada + [0, 1, 2, 3, 4, 5]\n",
    "print(concat)"
   ]
  },
  {
   "cell_type": "markdown",
   "metadata": {},
   "source": [
    "Muchas de las funciones que acabamos de ver para listas también funcionan con strings (pueden pensar a un string como una lista de caracteres)."
   ]
  },
  {
   "cell_type": "code",
   "execution_count": 12,
   "metadata": {},
   "outputs": [
    {
     "name": "stdout",
     "output_type": "stream",
     "text": [
      "I\n",
      "E\n",
      "IEEE\n"
     ]
    }
   ],
   "source": [
    "x = 'IEEEXTREME'\n",
    "print(x[0])\n",
    "print(x[-1])\n",
    "print(x[0:4])"
   ]
  },
  {
   "cell_type": "code",
   "execution_count": 13,
   "metadata": {},
   "outputs": [
    {
     "name": "stdout",
     "output_type": "stream",
     "text": [
      "True\n",
      "False\n"
     ]
    }
   ],
   "source": [
    "# in es case-sensitive\n",
    "print(\"IEEE\" in x)\n",
    "print(\"ieee\" in x)"
   ]
  },
  {
   "cell_type": "code",
   "execution_count": 14,
   "metadata": {},
   "outputs": [
    {
     "name": "stdout",
     "output_type": "stream",
     "text": [
      "IEEEXTREME\n",
      "10\n"
     ]
    }
   ],
   "source": [
    "a = \"IEEE\"\n",
    "b = \"XTREME\"\n",
    "print(a + b)\n",
    "print(len(x))"
   ]
  },
  {
   "cell_type": "markdown",
   "metadata": {},
   "source": [
    "Otros métodos útiles sobre strings:"
   ]
  },
  {
   "cell_type": "code",
   "execution_count": 15,
   "metadata": {},
   "outputs": [
    {
     "name": "stdout",
     "output_type": "stream",
     "text": [
      "ieeextreme\n",
      "['Thank', 'god', \"it's\", 'friday!']\n"
     ]
    }
   ],
   "source": [
    "# lower convierte todo a minúscula, upper a mayúscula\n",
    "print(x.lower())\n",
    "\n",
    "# split devuelve una lista de palabras en el string, usando el argumento que uno le pasa como separador. \n",
    "# Acá usamos un espacio \" \" como separador.\n",
    "a = \"Thank god it\\'s friday!\"\n",
    "print(a.split(\" \"))"
   ]
  },
  {
   "cell_type": "markdown",
   "metadata": {},
   "source": [
    "# Loops: for, while"
   ]
  },
  {
   "cell_type": "markdown",
   "metadata": {},
   "source": [
    "Para realizar loops en Python podemos usar `for`. "
   ]
  },
  {
   "cell_type": "code",
   "execution_count": 16,
   "metadata": {},
   "outputs": [
    {
     "name": "stdout",
     "output_type": "stream",
     "text": [
      "0\n",
      "1\n",
      "2\n",
      "3\n",
      "4\n"
     ]
    }
   ],
   "source": [
    "for i in [0,1,2,3,4]:\n",
    "  print(i)"
   ]
  },
  {
   "cell_type": "markdown",
   "metadata": {},
   "source": [
    "El código anterior lo que hace es ejecutar, en orden, el codigo que viene después de los dos puntos para cada valor de `i` entre 0 y 4. Lo pueden leer como \"para cada valor de `i` en la lista `[0, 1, 2, 3, 4]`, imprimí `i`\"."
   ]
  },
  {
   "cell_type": "code",
   "execution_count": 17,
   "metadata": {},
   "outputs": [
    {
     "name": "stdout",
     "output_type": "stream",
     "text": [
      "45\n"
     ]
    }
   ],
   "source": [
    "# Calcula la suma de todos los números del 0 al 9\n",
    "suma = 0\n",
    "for i in range(10):\n",
    "  suma = suma + i\n",
    "print(suma)"
   ]
  },
  {
   "cell_type": "code",
   "execution_count": 18,
   "metadata": {},
   "outputs": [
    {
     "name": "stdout",
     "output_type": "stream",
     "text": [
      "1\n",
      "IEEEXtreme\n",
      "3.14\n"
     ]
    }
   ],
   "source": [
    "for elemento in lista_variada:\n",
    "  print(elemento)"
   ]
  },
  {
   "cell_type": "markdown",
   "metadata": {},
   "source": [
    "También podemos usar `while`. Mientras que `for` ejecuta un bloque de código recorriendo un iterable (como una lista), `while` ejecuta un bloque de código mientras una condición se cumpla."
   ]
  },
  {
   "cell_type": "code",
   "execution_count": 19,
   "metadata": {},
   "outputs": [
    {
     "name": "stdout",
     "output_type": "stream",
     "text": [
      "0\n",
      "1\n",
      "2\n",
      "3\n",
      "4\n"
     ]
    }
   ],
   "source": [
    "# El código debajo del while se ejecuta siempre que i sea menor que 5. \n",
    "# Después de cada iteración, la condición i < 5 se vuelve a chequear, si da False el loop termina.\n",
    "i = 0\n",
    "while i < 5:\n",
    "  print(i)\n",
    "  i = i + 1"
   ]
  },
  {
   "cell_type": "code",
   "execution_count": 23,
   "metadata": {},
   "outputs": [
    {
     "name": "stdout",
     "output_type": "stream",
     "text": [
      "45\n"
     ]
    }
   ],
   "source": [
    "# Esto hace exactamente lo mismo que el for de más arriba, calcula la suma de los números del 0 al 9.\n",
    "suma = 0\n",
    "i = 0\n",
    "while i < 10:\n",
    "  suma = suma + i\n",
    "  i = i + 1\n",
    "print(suma)"
   ]
  },
  {
   "cell_type": "markdown",
   "metadata": {},
   "source": [
    "Tanto en un `for` como en un `while` podemos usar `break` para terminar el loop."
   ]
  },
  {
   "cell_type": "code",
   "execution_count": 21,
   "metadata": {},
   "outputs": [
    {
     "name": "stdout",
     "output_type": "stream",
     "text": [
      "Ingrese un comando\n"
     ]
    },
    {
     "name": "stdin",
     "output_type": "stream",
     "text": [
      " hola\n"
     ]
    },
    {
     "name": "stdout",
     "output_type": "stream",
     "text": [
      "Ingrese un comando\n"
     ]
    },
    {
     "name": "stdin",
     "output_type": "stream",
     "text": [
      " exit\n"
     ]
    }
   ],
   "source": [
    "# La iteración corta cuando escribimos \"exit\"\n",
    "while True:\n",
    "  print(\"Ingrese un comando\")\n",
    "  a = input()\n",
    "  if a == \"exit\":\n",
    "    break"
   ]
  },
  {
   "cell_type": "markdown",
   "metadata": {},
   "source": [
    "# La terapeuta distraída\n",
    "\n",
    "Elisa es una terapeuta que suele distraerse y responder con frases hechas a los relatos de sus pacientes.\n",
    "\n",
    "Siempre comienza la sesión con \"Buen día! contame, cómo estás?\", y luego de escuchar a su paciente, responde con cualquiera de las siguientes frases:\n",
    "\n",
    "- \"Y cómo te hace sentir eso?\"\n",
    "- \"Contáme más...\"\n",
    "- \"Qué hiciste para cambiarlo?\"\n",
    "- \"Y después?\"\n",
    "- \"Claro\"\n",
    "\n",
    "Cuando su paciente dice \"se terminó la hora\", recuerda sus modales y se despide con un \"Hasta la próxima\".\n",
    "\n",
    "Escribí un programa que tome input del usuario, lo imprima, e imprima una de las respuestas de Elisa al azar. Podés agregar frases a tu gusto."
   ]
  },
  {
   "cell_type": "code",
   "execution_count": 22,
   "metadata": {},
   "outputs": [
    {
     "name": "stdin",
     "output_type": "stream",
     "text": [
      " a\n"
     ]
    },
    {
     "name": "stdout",
     "output_type": "stream",
     "text": [
      "Qué hiciste para cambiarlo?\n"
     ]
    }
   ],
   "source": [
    "from random import choice\n",
    "\n",
    "respuestas = [                        # Esto es una lista\n",
    "    \"Y cómo te hace sentir eso?\",\n",
    "    \"Contáme más...\",\n",
    "    \"Qué hiciste para cambiarlo?\",\n",
    "    \"Y después?\",\n",
    "    \"Claro\"\n",
    "]\n",
    "\n",
    "# Completar con el saludo\n",
    "\n",
    "while True:     # Ojo! Esto puede correr para siempre si no le damos un criterio de corte\n",
    "  # Completar\n",
    "  paciente = input()\n",
    "  print(choice(respuestas))               # Esto selecciona un elemento al azar de la lista\n",
    "  break         # Este es el corte"
   ]
  },
  {
   "cell_type": "code",
   "execution_count": null,
   "metadata": {},
   "outputs": [],
   "source": []
  }
 ],
 "metadata": {
  "kernelspec": {
   "display_name": "Python 3",
   "language": "python",
   "name": "python3"
  },
  "language_info": {
   "codemirror_mode": {
    "name": "ipython",
    "version": 3
   },
   "file_extension": ".py",
   "mimetype": "text/x-python",
   "name": "python",
   "nbconvert_exporter": "python",
   "pygments_lexer": "ipython3",
   "version": "3.7.5"
  }
 },
 "nbformat": 4,
 "nbformat_minor": 4
}
