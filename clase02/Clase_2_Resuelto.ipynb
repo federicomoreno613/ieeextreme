{
  "nbformat": 4,
  "nbformat_minor": 0,
  "metadata": {
    "colab": {
      "name": "Blackgate Penitentiary",
      "provenance": [],
      "collapsed_sections": [
        "DqWRJcSB7bVS"
      ],
      "toc_visible": true
    },
    "kernelspec": {
      "name": "python3",
      "display_name": "Python 3"
    }
  },
  "cells": [
    {
      "cell_type": "markdown",
      "metadata": {
        "id": "ndxRpDJyZ9vB",
        "colab_type": "text"
      },
      "source": [
        "# Tarea de la clase 2: Blackgate Penitentiary\n",
        "\n",
        "Url del problema: https://csacademy.com/ieeextreme-practice/task/8761fb7efefcf1d890df1d8d91cae241/"
      ]
    },
    {
      "cell_type": "markdown",
      "metadata": {
        "id": "1OWYfwlsnxth",
        "colab_type": "text"
      },
      "source": [
        "## Entrada y salida en CSAcademy\n",
        "\n",
        "Hasta ahora vimos como pedirle una _string_ al usuario por medio de `input()`.\n",
        "\n",
        "```\n",
        ">>> entrada = input(\"decime una cosa: \")\n",
        "decime una cosa: una cosa\n",
        ">>> entrada\n",
        "'una cosa'\n",
        "```\n",
        "\n",
        "Pero en el contexto de CS Academy, vamos a usar `input()` para leer una linea del standard input. Todos los problemas de IEEEXtreme van a venir con archivos de texto muy simples que vamos a leer con input.\n",
        "\n",
        "En el caso de python, CS Academy nos provee dos funciones, `get_word()`, que lee una string y `get_number()` que lee un `int` o un `float` segun corresponda. Ambas estan implementadas usando `input()`."
      ]
    },
    {
      "cell_type": "markdown",
      "metadata": {
        "id": "yuzhJ1bTaNj4",
        "colab_type": "text"
      },
      "source": [
        "## El problema:\n",
        "\n",
        "Nos van a dar una lista de villanos, con sus alturas. Se los debe ordenar de manera no decreciente para tenerlos vigilados.\n",
        "\n",
        "Lo que nos piden es que los agrupemos por altura y reportemos el rango de posiciones que van a tomar cuando los tengamos ordenados. "
      ]
    },
    {
      "cell_type": "code",
      "metadata": {
        "id": "cQZovasL2v2c",
        "colab_type": "code",
        "colab": {}
      },
      "source": [
        "import pprint\n",
        "pp = pprint.PrettyPrinter(indent=4).pprint"
      ],
      "execution_count": 1,
      "outputs": []
    },
    {
      "cell_type": "markdown",
      "metadata": {
        "id": "DqWRJcSB7bVS",
        "colab_type": "text"
      },
      "source": [
        "## Solución:"
      ]
    },
    {
      "cell_type": "markdown",
      "metadata": {
        "id": "N23z6Skx1y-t",
        "colab_type": "text"
      },
      "source": [
        "### Lectura de datos:\n",
        "\n",
        "Cuando empezamos un problema nuevo de CSAcademy, nos trae las funciones:\n",
        "- `get_word()` Que lee hasta el proximo espacio y nos devuelve un string.\n",
        "- `get_number()` Que lee hasta el proximo espacio y nos devuelve in `float` o un `int`."
      ]
    },
    {
      "cell_type": "code",
      "metadata": {
        "id": "7oA1pDzUYukB",
        "colab_type": "code",
        "colab": {
          "base_uri": "https://localhost:8080/",
          "height": 34
        },
        "outputId": "8b340417-e1e0-4c17-fd74-80103ec55bcb"
      },
      "source": [
        "# ------------------------------------------------------------------------------\n",
        "# A ESTO NO LE PRESTEN ATENCION. ES PARA SIMULAR LA API DE CSACADEMY.\n",
        "# ------------------------------------------------------------------------------\n",
        "\n",
        "input = '''\n",
        "6\n",
        "TheJoker 180\n",
        "HarleyQuin 160\n",
        "MrHammer 220\n",
        "Boody 220\n",
        "Muggs 180\n",
        "Paulie 180\n",
        "'''\n",
        "\n",
        "input_words =  (w for w in input.split())\n",
        "\n",
        "def get_word():\n",
        "  return next(input_words)\n",
        "\n",
        "def get_number():\n",
        "    data = get_word()\n",
        "    try:\n",
        "        return int(data)\n",
        "    except ValueError:\n",
        "        return float(data)\n",
        "\n",
        "# ------------------------------------------------------------------------------\n",
        "# Nuestro código empieza acá:\n",
        "# ------------------------------------------------------------------------------\n",
        "\n",
        "lista_villanos_y_alturas = []\n",
        "N = get_number()\n",
        "for _ in range(N):\n",
        "    nombre = get_word()\n",
        "    altura = get_number()\n",
        "    lista_villanos_y_alturas.append((nombre, altura))\n",
        "\n",
        "print(lista_villanos_y_alturas)"
      ],
      "execution_count": 2,
      "outputs": [
        {
          "output_type": "stream",
          "text": [
            "[('TheJoker', 180), ('HarleyQuin', 160), ('MrHammer', 220), ('Boody', 220), ('Muggs', 180), ('Paulie', 180)]\n"
          ],
          "name": "stdout"
        }
      ]
    },
    {
      "cell_type": "markdown",
      "metadata": {
        "id": "9N9DB4-_qVd9",
        "colab_type": "text"
      },
      "source": [
        "### Ordenamos los villanos\n",
        "\n",
        "> Each line will contain in alphabetical order and space separated the names of the crew members that have the same height\n",
        "\n",
        "El enunciado nos pide ordenar a los villanos por altura. Para los que tengan la misma altura, nos piden que los entreguemos en orden alfabetico.\n",
        "\n",
        "Podemos usar la propiedad de `sorted()`, que garantiza un ordenamiento estable ([referencia en la documentación de python](https://docs.python.org/3/library/functions.html#sorted))\n",
        "\n",
        "> The built-in sorted() function is guaranteed to be stable. A sort is stable if it guarantees not to change the relative order of elements that compare equal — this is helpful for sorting in multiple passes (for example, sort by department, then by salary grade).\n",
        "\n",
        "Un algoritmo ordenamiento estable mantiene el orden original para elementos iguales.\n",
        "\n",
        "> Esto es lo que usamos en el navegador de carpetas si queremos ordenar por tipo de archivo y para los archivos del mismo tipo, ordenar alfabeticamente.\n"
      ]
    },
    {
      "cell_type": "code",
      "metadata": {
        "id": "tttVjrV8qHdv",
        "colab_type": "code",
        "colab": {
          "base_uri": "https://localhost:8080/",
          "height": 119
        },
        "outputId": "6b50858f-478c-4a1a-b7f7-be33b9881a68"
      },
      "source": [
        "lista_villanos_y_alturas = sorted(lista_villanos_y_alturas, key=lambda t: t[0])\n",
        "lista_villanos_y_alturas = sorted(lista_villanos_y_alturas, key=lambda t: t[1])\n",
        "\n",
        "pp(lista_villanos_y_alturas)"
      ],
      "execution_count": 5,
      "outputs": [
        {
          "output_type": "stream",
          "text": [
            "[   ('HarleyQuin', 160),\n",
            "    ('Muggs', 180),\n",
            "    ('Paulie', 180),\n",
            "    ('TheJoker', 180),\n",
            "    ('Boody', 220),\n",
            "    ('MrHammer', 220)]\n"
          ],
          "name": "stdout"
        }
      ]
    },
    {
      "cell_type": "markdown",
      "metadata": {
        "id": "UDb8n1Pss2CK",
        "colab_type": "text"
      },
      "source": [
        "### Agrupamos por altura\n",
        "\n",
        "Ahora tenemos los villanos en el orden deseado. Nos piden:\n",
        "```\n",
        "HarleyQuin 1 1\n",
        "Muggs Paulie TheJoker 2 4\n",
        "Boody MrHammer 5 6\n",
        "```\n",
        "\n",
        "Cada nivel es una lista de nombres. Podemos resolverlo con una lista de listas.\n"
      ]
    },
    {
      "cell_type": "code",
      "metadata": {
        "id": "J7XCyucRvsos",
        "colab_type": "code",
        "colab": {
          "base_uri": "https://localhost:8080/",
          "height": 34
        },
        "outputId": "3b146e38-f8a9-4e4b-bf77-c24426b5346a"
      },
      "source": [
        "salida = [[]]\n",
        "altura_de_referencia = lista_villanos_y_alturas[0][1] # La altura del mas bajo\n",
        "\n",
        "for nombre, altura in lista_villanos_y_alturas:\n",
        "    if altura == altura_de_referencia:\n",
        "        salida[-1].append(nombre)\n",
        "    else:\n",
        "        # Si es mas alto, creamos otra lista\n",
        "        salida.append([nombre])\n",
        "        # Actualizamos la altura de referencia.\n",
        "        altura_de_referencia = altura\n",
        "\n",
        "pp(salida)"
      ],
      "execution_count": 6,
      "outputs": [
        {
          "output_type": "stream",
          "text": [
            "[['HarleyQuin'], ['Muggs', 'Paulie', 'TheJoker'], ['Boody', 'MrHammer']]\n"
          ],
          "name": "stdout"
        }
      ]
    },
    {
      "cell_type": "markdown",
      "metadata": {
        "id": "HJNs-3p4wLc1",
        "colab_type": "text"
      },
      "source": [
        "### Imprimimos\n",
        "\n",
        "Lo unico que nos resta es imprimir la salida en el formato especificado."
      ]
    },
    {
      "cell_type": "code",
      "metadata": {
        "id": "8lnam-82wPB0",
        "colab_type": "code",
        "colab": {
          "base_uri": "https://localhost:8080/",
          "height": 68
        },
        "outputId": "8b341829-30a2-4da8-b1a2-ba6cb0b0d617"
      },
      "source": [
        "posicion = 1\n",
        "for grupo in salida:\n",
        "    # posicion del proximo grupo\n",
        "    posicion_prox = posicion + len(grupo)\n",
        "\n",
        "    nombres_str = ' '.join(grupo)\n",
        "    print(nombres_str, posicion, posicion_prox - 1)\n",
        "\n",
        "    # Actualizamos la posición para el proximo grupo\n",
        "    posicion = posicion_prox\n"
      ],
      "execution_count": 7,
      "outputs": [
        {
          "output_type": "stream",
          "text": [
            "HarleyQuin 1 1\n",
            "Muggs Paulie TheJoker 2 4\n",
            "Boody MrHammer 5 6\n"
          ],
          "name": "stdout"
        }
      ]
    },
    {
      "cell_type": "markdown",
      "metadata": {
        "id": "Hur9HZy0wzgH",
        "colab_type": "text"
      },
      "source": [
        "## Una mejor solución usando diccionarios\n",
        "\n",
        "El problema nos pide agrupar nombres por alturas. Las listas nos vienen bien para poner un orden a una colección de elementos, pero para otros problemas, existen otras estructuras de datos.\n",
        "\n"
      ]
    },
    {
      "cell_type": "markdown",
      "metadata": {
        "id": "5py116DE79ut",
        "colab_type": "text"
      },
      "source": [
        "### Diccionarios\n",
        "\n",
        "Una estructura que puede ser mas eficiente para este problema es un `diccionario`.\n",
        "\n",
        "Un diccionario nos permite asociar claves a datos"
      ]
    },
    {
      "cell_type": "code",
      "metadata": {
        "id": "MueABlsVxgye",
        "colab_type": "code",
        "colab": {
          "base_uri": "https://localhost:8080/",
          "height": 54
        },
        "outputId": "a1966971-3af7-4f43-c57e-133f633ba46b"
      },
      "source": [
        "diccionario = {}\n",
        "\n",
        "# podemos asignar definiciones\n",
        "diccionario['estructura de datos'] = 'una estructura de datos es una forma particular de organizar datos en una computadora para que puedan ser utilizados de manera eficiente'\n",
        "\n",
        "# podemos acceder a definiciones dada una clave\n",
        "clave = 'estructura de datos'\n",
        "print(diccionario[clave])"
      ],
      "execution_count": 9,
      "outputs": [
        {
          "output_type": "stream",
          "text": [
            "una estructura de datos es una forma particular de organizar datos en una computadora para que puedan ser utilizados de manera eficiente\n"
          ],
          "name": "stdout"
        }
      ]
    },
    {
      "cell_type": "markdown",
      "metadata": {
        "id": "Qok_93bAysvj",
        "colab_type": "text"
      },
      "source": [
        "### Agrupamos por altura en un dict\n",
        "\n",
        "Una alternativa para agrupar por altura es usar un diccionario\n"
      ]
    },
    {
      "cell_type": "code",
      "metadata": {
        "id": "e7slZVpE4OGu",
        "colab_type": "code",
        "colab": {
          "base_uri": "https://localhost:8080/",
          "height": 68
        },
        "outputId": "51668749-9ffd-4a10-cc1f-03a45b925261"
      },
      "source": [
        "# Usamos un diccionario de listas\n",
        "villanos_por_altura = {}\n",
        "\n",
        "# Ponemos los nombres en las listas para cada altura\n",
        "for nombre, altura in lista_villanos_y_alturas:\n",
        "\n",
        "    if altura in villanos_por_altura:\n",
        "        villanos_por_altura[altura].append(nombre)\n",
        "    else:\n",
        "        villanos_por_altura[altura] = [nombre]\n",
        "\n",
        "pp(villanos_por_altura)"
      ],
      "execution_count": 10,
      "outputs": [
        {
          "output_type": "stream",
          "text": [
            "{   160: ['HarleyQuin'],\n",
            "    180: ['Muggs', 'Paulie', 'TheJoker'],\n",
            "    220: ['Boody', 'MrHammer']}\n"
          ],
          "name": "stdout"
        }
      ]
    },
    {
      "cell_type": "markdown",
      "metadata": {
        "id": "o5DAVIIQ71gv",
        "colab_type": "text"
      },
      "source": [
        "### Imprimimos"
      ]
    },
    {
      "cell_type": "code",
      "metadata": {
        "id": "B1FImWId6jcd",
        "colab_type": "code",
        "colab": {
          "base_uri": "https://localhost:8080/",
          "height": 68
        },
        "outputId": "e4ee89d4-16d2-4ac7-8ff0-e157338d797c"
      },
      "source": [
        "# Obtenermos las alturas del diccionario.\n",
        "alturas = villanos_por_altura.keys()\n",
        "\n",
        "# Ordenamos las alturas. Un ordenamiento mucho mas simple que ordenar todos los villanos.\n",
        "alturas = sorted(alturas)\n",
        "\n",
        "posicion = 1\n",
        "for altura in alturas:\n",
        "\n",
        "    nombres = villanos_por_altura[altura]\n",
        "    posicion_prox = posicion + len(nombres)\n",
        "\n",
        "    nombres_str = ' '.join(sorted(nombres))\n",
        "    print(nombres_str, posicion, posicion_prox - 1)\n",
        "\n",
        "    posicion = posicion_prox"
      ],
      "execution_count": 13,
      "outputs": [
        {
          "output_type": "stream",
          "text": [
            "HarleyQuin 1 1\n",
            "Muggs Paulie TheJoker 2 4\n",
            "Boody MrHammer 5 6\n"
          ],
          "name": "stdout"
        }
      ]
    }
  ]
}