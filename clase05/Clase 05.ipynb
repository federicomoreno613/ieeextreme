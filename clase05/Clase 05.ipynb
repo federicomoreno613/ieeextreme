{
 "cells": [
  {
   "cell_type": "markdown",
   "metadata": {},
   "source": [
    "# Combinatoria"
   ]
  },
  {
   "cell_type": "markdown",
   "metadata": {},
   "source": [
    "### Principio de Multiplicacion\n",
    "\n",
    "Si un evento puede ocurrir en $m$ formas, y un segundo evento puede ocurrar en $n$ formas, entonces el numero de formas en las que pueden ocurrir ambos es $m \\cdot n$.\n",
    "\n",
    "**Ejemplo**: \n",
    "\n",
    "Tiramos dos dados de 6 caras. Cuantos posibles resultados hay?\n",
    "\n",
    "Cada dado puede dar seis valores, distinguimos entre los dos dados.\n",
    "\n",
    "$$ (1, 1), (1, 2), ..., (2, 1), (2, 2) ..., (6, 6)$$\n",
    "\n",
    "$$ 6 \\cdot 6 = 36$$"
   ]
  },
  {
   "cell_type": "markdown",
   "metadata": {},
   "source": [
    "## Permutaciones\n",
    "\n",
    "Una permutacion es un arreglo de objetos de un conjunto de objetos.\n",
    "\n",
    "Esto es, los objetos se eligen de un conjunto y se listan en un orden particular.\n",
    "\n",
    "Supongamos tener $N$ elementos distintos $a_{1}, a_{2}, ..., a_{N}$.\n",
    "\n",
    "Consideremos grupos de estos $N$ elementos, de tal forma que dos grupos cualesquiera son distintos si difieren en el orden (o la ubicacion) de por lo menos uno de sus elementos.\n",
    "\n",
    "El numero de grupos distintos que pueden formarse con estos $N$ elementos esta dado por $P_{N} = N!$.\n",
    "\n",
    "**Ejemplo:**\n",
    "\n",
    "Cuantas maneras hay de ordenar los numeros 1, 2, 3?\n",
    "\n",
    "- 1,2,3\n",
    "- 1,3,2\n",
    "- 2,1,3\n",
    "- 2,3,1\n",
    "- 3,1,2\n",
    "- 3,2,1\n",
    "\n",
    "$$ 3! = 6$$"
   ]
  },
  {
   "cell_type": "code",
   "execution_count": null,
   "metadata": {},
   "outputs": [],
   "source": [
    "def permutaciones(elementos):\n",
    "    if len(elementos) <= 1:\n",
    "        yield elementos\n",
    "    else:\n",
    "        for perm in permutaciones(elementos[1:]):\n",
    "            for i in range(len(elementos)):\n",
    "                yield perm[:i] + elementos[0:1] + perm[i:]"
   ]
  },
  {
   "cell_type": "code",
   "execution_count": null,
   "metadata": {},
   "outputs": [],
   "source": [
    "for p in permutaciones([1,2,3]):\n",
    "    print(p)"
   ]
  },
  {
   "cell_type": "markdown",
   "metadata": {},
   "source": [
    "## Variaciones\n",
    "\n",
    "Si en lugar de tomar $n$ objetos de a $n$, tomamos $k$ con $(k \\leq n)$ objetos  tenemos:\n",
    "\n",
    "$$ (n)(n-1)(n-2)(n-3)......(n-k+1)$$\n",
    "\n",
    "Las variaciones se pueden encontrar de la siguiente manera: a cada variacion de orden $n-1$, se le agrega (por ejemplo a la derecha) uno de los $m - (n - 1) = m - n + 1$ objetos que no figuran en esa variacion. Por lo tanto, cada variacion de orden $n-1$ da origen a $m - n + 1$ variaciones de orden $n$.\n",
    "\n",
    "Por lo tanto, la cantidad de permutaciones de $n$ objetos distintos tomados de a $k$ se calcula: \n",
    "\n",
    "$$ P_{n}^{k} = \\frac{n!}{(n-k)!} $$\n",
    "\n",
    "y a veces se les dice variacion.\n",
    "\n",
    "Dados $n$ elementos _distintos_ $a_{1}, a_{2}, ..., a_{N}$, una variacion de orden $n$ de $m$ elementos $(n \\leq m)$ es una seleccion _ordenada_ formada por $n$ de estos $m$ objetos.\n",
    "\n",
    "Estos grupos de $n$ de estos $m$ elementos son de tal forma que dos grupos cualesquiera son distintos si difieren por lo menos en un elementos en el orden (o ubicacion) de uno de ellos."
   ]
  },
  {
   "cell_type": "markdown",
   "metadata": {},
   "source": [
    "### Ejemplo\n",
    "\n",
    "De cuantas maneras se pueden formar palabras de 3 letras con las letras a, b, c, d, e sin repetir ninguna?\n",
    "\n",
    "Cada palabra es una variacion de 5 objetos tomados de a 3.\n",
    "\n",
    "$$ V_{3}^{5} = \\frac{5!}{(5-3)!} = \\frac{5!}{2!} = 5 \\cdot 4 \\cdot 3 = 60$$"
   ]
  },
  {
   "cell_type": "markdown",
   "metadata": {},
   "source": [
    "### Ejemplo\n",
    "\n",
    "Cuantos numeros de 3 cifras distintas pueden formarse con los digitos 1, 3, 5, 7, y 9?\n",
    "\n",
    "$$ V_{3}^{5} = \\frac{5!}{(5-3)!} = \\frac{5!}{2!} = 5 \\cdot 4 \\cdot 3 = 60$$\n",
    "\n",
    "Cuantos de ellos empiezan con 1?\n",
    "\n",
    "$$ V_{2}^{4} = \\frac{4!}{(4-2)!} = \\frac{4!}{2!} = 4 \\cdot 3 = 12$$\n",
    "\n",
    "Cuantos terminan con 37?\n",
    "\n",
    "$$ V_{1}^{3} = \\frac{3!}{(3-1)!} = \\frac{3!}{2!} = 3$$"
   ]
  },
  {
   "cell_type": "markdown",
   "metadata": {},
   "source": [
    "## Combinaciones\n",
    "\n",
    "Que pasa si no nos interesa el orden?\n",
    "\n",
    "Supongamos tener $N$ elementos distintos $a_{1}, a_{2}, ..., a_{N}$.\n",
    "\n",
    "Consideremos grupos de $n (n \\lt N)$ de estos N elementos, de tal forma que dos grupos cualesquiera son distintos si diferen por lo menos de un elemento. \n",
    "\n",
    "El numero de grupos distintos que se pueden formar esta dado por \n",
    "\n",
    "$$ C_{N}^{n} = \\frac{N!}{n! (N - n)!}$$\n",
    "\n",
    "Una combinacion es una seleccion de objetos de un conjunto de objetos.\n",
    "\n",
    "Esto es, los objetos se eligen de un conjunto particular y se listan, pero el orden en el cual se listan no es importante. \n",
    "\n",
    "Hay muchos problemas en los cuales nos interesa determinar la cantidad de maneras en los cuales $k$ objetos se pueden seleccionar de entre $n$ objetos sin importar el orden en que se seleccionan. \n",
    "\n",
    "Estas selecciones se llaman combinacionaes. \n",
    "\n",
    "El numero de combinaciones de k objetos de un conjuneto de $n$ objetos es:\n",
    "\n",
    "$$ C_{n}^{k} = \\frac{n!}{k! (n - k) !} $$ \n",
    "\n",
    "### Ejemplo\n",
    "\n",
    "Las combinaciones de ${1,2,3,4}$ tomados de a $k=2$ son \n",
    "\n",
    "- {1,2} \n",
    "- {1,3} \n",
    "- {1,4} \n",
    "- {2,3} \n",
    "- {2,4} \n",
    "- {3,4}\n",
    "\n",
    "Un total de $ 6 = \\frac{4!}{(2!)(4-2) !}$ subconjuntos."
   ]
  },
  {
   "cell_type": "markdown",
   "metadata": {},
   "source": [
    "## `itertools`\n",
    "\n",
    "Itertools tiene herramientas muy utiles a la hora de obtener estas enumeraciones:"
   ]
  },
  {
   "cell_type": "code",
   "execution_count": null,
   "metadata": {},
   "outputs": [],
   "source": [
    "import itertools\n",
    "ps = itertools.permutations([1,2,3])\n",
    "for p in ps:\n",
    "    print(p)"
   ]
  },
  {
   "cell_type": "markdown",
   "metadata": {},
   "source": [
    "#### Permutation (el orden importa)"
   ]
  },
  {
   "cell_type": "code",
   "execution_count": null,
   "metadata": {},
   "outputs": [],
   "source": [
    "ps = itertools.permutations([1,2,3,4], 2)\n",
    "for e in ps:\n",
    "    print(e)"
   ]
  },
  {
   "cell_type": "markdown",
   "metadata": {},
   "source": [
    "#### Combinacion (el order NO importa):"
   ]
  },
  {
   "cell_type": "code",
   "execution_count": null,
   "metadata": {},
   "outputs": [],
   "source": [
    "cs = itertools.combinations('123', 2)\n",
    "print(list(cs))"
   ]
  },
  {
   "cell_type": "markdown",
   "metadata": {},
   "source": [
    "#### Producto cartesiano (con varios iterables)"
   ]
  },
  {
   "cell_type": "code",
   "execution_count": null,
   "metadata": {},
   "outputs": [],
   "source": [
    "cs = itertools.product([1,2,3], [4,5,6])\n",
    "print(list(cs))"
   ]
  },
  {
   "cell_type": "markdown",
   "metadata": {},
   "source": [
    "#### Producto cartesiano (con un iterable)"
   ]
  },
  {
   "cell_type": "code",
   "execution_count": null,
   "metadata": {},
   "outputs": [],
   "source": [
    "cs = itertools.product([1,2], repeat=3)\n",
    "print(list(cs))"
   ]
  },
  {
   "cell_type": "markdown",
   "metadata": {},
   "source": [
    "## Resumen\n",
    "\n",
    "Preguntas utiles:\n",
    "- Cuantos hay?\n",
    "- De a cuantos tomo?\n",
    "- Se repiten elementos o los conjuntos son fijos?\n",
    "\n",
    "|                      | Orden | Repeticion |\n",
    "|----------------------|-------|------------|\n",
    "| Permutacion          | Si    | No         |\n",
    "| Variacion            | Si    | No         |\n",
    "| Variacion  con rep   | Si    | Si         |\n",
    "| Combinacion          | No    | No         |\n",
    "| Combiancion  con rep | No    | Si         |\n"
   ]
  }
 ],
 "metadata": {
  "kernelspec": {
   "display_name": "Python 3",
   "language": "python",
   "name": "python3"
  },
  "language_info": {
   "codemirror_mode": {
    "name": "ipython",
    "version": 3
   },
   "file_extension": ".py",
   "mimetype": "text/x-python",
   "name": "python",
   "nbconvert_exporter": "python",
   "pygments_lexer": "ipython3",
   "version": "3.7.6"
  }
 },
 "nbformat": 4,
 "nbformat_minor": 4
}
