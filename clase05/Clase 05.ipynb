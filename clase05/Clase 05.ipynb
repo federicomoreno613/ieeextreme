{
 "cells": [
  {
   "cell_type": "markdown",
   "metadata": {},
   "source": [
    "# Combinatoria\n",
    "\n",
    "## Combinaciones\n",
    "\n",
    "## Combinaciones con repeticion\n",
    "\n",
    "## Permutaciones\n",
    "\n",
    "## Variaciones\n",
    "\n",
    "## Variaciones con repeticion\n",
    "\n",
    "## Numeros binomiales"
   ]
  },
  {
   "cell_type": "code",
   "execution_count": null,
   "metadata": {},
   "outputs": [],
   "source": []
  }
 ],
 "metadata": {
  "kernelspec": {
   "display_name": "Python 3",
   "language": "python",
   "name": "python3"
  },
  "language_info": {
   "codemirror_mode": {
    "name": "ipython",
    "version": 3
   },
   "file_extension": ".py",
   "mimetype": "text/x-python",
   "name": "python",
   "nbconvert_exporter": "python",
   "pygments_lexer": "ipython3",
   "version": "3.7.6"
  }
 },
 "nbformat": 4,
 "nbformat_minor": 4
}
