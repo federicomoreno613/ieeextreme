{
  "nbformat": 4,
  "nbformat_minor": 0,
  "metadata": {
    "colab": {
      "name": "Pelotitas.ipynb",
      "provenance": []
    },
    "kernelspec": {
      "name": "python3",
      "display_name": "Python 3"
    }
  },
  "cells": [
    {
      "cell_type": "markdown",
      "metadata": {
        "id": "okPp4FBKOndD",
        "colab_type": "text"
      },
      "source": [
        "## Problema\n",
        "\n",
        "Tenemos pelotitas de 3 colores: Rojas, Verdes y Azules. Queremos contar la cantidad de formas en las que las podemos ordenar, sin tener dos pelotas seguidas del mismo color.\n",
        "\n",
        "\n",
        "- Tenemos $R$ pelotitas rojas.\n",
        "- Tenemos $G$ pelotitas verdes.\n",
        "- Tenemos $B$ pelotitas azules.\n",
        "\n",
        "### Ejemplos:\n",
        "\n",
        "Entrada: ${r = 2, g = 2, b = 0}$.\n",
        "\n",
        "$$ [r, g, r, g] $$\n",
        "$$ [g, r, g, r] $$"
      ]
    },
    {
      "cell_type": "markdown",
      "metadata": {
        "id": "BVXy3MD-O-Tw",
        "colab_type": "text"
      },
      "source": [
        "### Como resolver este problema\n",
        "\n",
        "Vamos a hacer una solución por fuerza bruta, probando todas las formas en las cuales podemos ordenar la secuencia de pelotitas.\n",
        "\n",
        "### Caso base\n",
        "\n",
        "- Si me queda la última bola sin ubicar, tengo una única opcion.\n",
        "- Si me quedan mas que una bola de un único color, no voy a tener forma de ordenarlas sin que sean consecutivas. Tengo 0 opciones.\n",
        "\n",
        "$$\n",
        "f(r, 0, 0) = \\left\\{\\begin{matrix}\n",
        "    1 \\mathrm{\\, si\\, } r = 1 \\\\ \n",
        "    0 \\mathrm{\\, si\\, } r > 1 \n",
        "\\end{matrix}\\right.\n",
        "$$\n",
        "\n",
        "$$\n",
        "f(0, g, 0) = \\left\\{\\begin{matrix}\n",
        "    1 \\mathrm{\\, si\\, } g = 1 \\\\ \n",
        "    0 \\mathrm{\\, si\\, } g > 1 \n",
        "\\end{matrix}\\right.\n",
        "$$\n",
        "\n",
        "$$\n",
        "f(0, 0, b) = \\left\\{\\begin{matrix}\n",
        "    1 \\mathrm{\\, si\\, } b = 1 \\\\ \n",
        "    0 \\mathrm{\\, si\\, } b > 1 \n",
        "\\end{matrix}\\right.\n",
        "$$\n",
        "\n",
        "### Caso general\n",
        "\n",
        "Para el caso general, tengo que sumar la cantidad de combinaciones que surgen de elegir cada color.\n",
        "\n",
        "- Teniendo en cuenta que no podemos repetir el color anterior."
      ]
    },
    {
      "cell_type": "code",
      "metadata": {
        "id": "jCfivoyuOl3G",
        "colab_type": "code",
        "colab": {
          "base_uri": "https://localhost:8080/",
          "height": 67
        },
        "outputId": "70e16dd0-d15c-4243-9ddf-4bf7cd826d0b"
      },
      "source": [
        "%time\n",
        "\n",
        "def f(r, g, b, prev =None):\n",
        "\n",
        "    if g == 0 and b == 0:\n",
        "        return 1 if r == 1 else 0\n",
        "    elif r == 0 and b == 0:\n",
        "        return 1 if g == 1 else 0\n",
        "    elif r == 0 and g == 0:\n",
        "        return 1 if b == 1 else 0\n",
        "    \n",
        "    # Caso gral:\n",
        "\n",
        "    ans = 0\n",
        "    if prev != 'r' and 0 < r:\n",
        "        ans += f(r - 1, g, b, 'r')\n",
        "\n",
        "    if prev != 'g' and 0 < g:\n",
        "        ans += f(r, g - 1, b, 'g')\n",
        "\n",
        "    if prev != 'b' and 0 < b:\n",
        "        ans += f(r, g, b - 1, 'b')\n",
        "    \n",
        "    return ans\n",
        "\n",
        "f(4, 4, 4)"
      ],
      "execution_count": 33,
      "outputs": [
        {
          "output_type": "stream",
          "text": [
            "CPU times: user 3 µs, sys: 0 ns, total: 3 µs\n",
            "Wall time: 4.05 µs\n"
          ],
          "name": "stdout"
        },
        {
          "output_type": "execute_result",
          "data": {
            "text/plain": [
              "1092"
            ]
          },
          "metadata": {
            "tags": []
          },
          "execution_count": 33
        }
      ]
    },
    {
      "cell_type": "markdown",
      "metadata": {
        "id": "ZVlkULj1NpFu",
        "colab_type": "text"
      },
      "source": [
        "## Memoizado al rescate\n",
        "\n",
        "Esto no escala para input grandes...\n",
        "\n",
        "Pero los sub-problemas se repiten. podemos guardarnos los resultados para ahorrarnos computarlos otra vez."
      ]
    },
    {
      "cell_type": "code",
      "metadata": {
        "id": "q9NNIRUT8xtA",
        "colab_type": "code",
        "colab": {
          "base_uri": "https://localhost:8080/",
          "height": 67
        },
        "outputId": "ada3edec-a79e-4e19-e884-918c1a97f2c4"
      },
      "source": [
        "%time\n",
        "\n",
        "memoria = {}\n",
        "\n",
        "def cantidad_secuencias(r, g, b, prev = None):\n",
        "\n",
        "    global memoria\n",
        "    input = (r, g, b, prev)\n",
        "\n",
        "    if input in memoria:\n",
        "        return memoria[input]\n",
        "\n",
        "    # Caso base\n",
        "    if g == 0 and b ==0:\n",
        "        return 1 if r == 1 else 0\n",
        "    elif r == 0 and b ==0:\n",
        "        return 1 if g == 1 else 0\n",
        "    elif r == 0 and g ==0:\n",
        "        return 1 if b == 1 else 0\n",
        "\n",
        "    ans = 0\n",
        "\n",
        "    # Probé poniendo uno rojo y cuento todas las combinaciones de colas de esa seq\n",
        "    if prev != 'r' and r > 0:\n",
        "        ans += cantidad_secuencias(r - 1, g, b, prev='r')\n",
        "    \n",
        "    # Probé poniendo uno verde y cuento todas las combinaciones de colas de esa seq\n",
        "    if prev != 'g' and g > 0:\n",
        "        ans += cantidad_secuencias(r, g - 1, b, prev='g')\n",
        "    \n",
        "    # Probé poniendo uno azul y cuento todas las combinaciones de colas de esa seq\n",
        "    if prev != 'b' and b > 0:\n",
        "        ans += cantidad_secuencias(r, g, b - 1, prev='b')\n",
        "\n",
        "    memoria[input] = ans\n",
        "    return ans\n",
        "\n",
        "cantidad_secuencias(100, 100, 100)"
      ],
      "execution_count": 45,
      "outputs": [
        {
          "output_type": "stream",
          "text": [
            "CPU times: user 3 µs, sys: 0 ns, total: 3 µs\n",
            "Wall time: 6.68 µs\n"
          ],
          "name": "stdout"
        },
        {
          "output_type": "execute_result",
          "data": {
            "text/plain": [
              "25102064470121189422335915746358383809541047972127077597317538052665359704475946419493056"
            ]
          },
          "metadata": {
            "tags": []
          },
          "execution_count": 45
        }
      ]
    },
    {
      "cell_type": "markdown",
      "metadata": {
        "id": "rdHBKvui_VhO",
        "colab_type": "text"
      },
      "source": [
        "- Tenemos un algoritmo recursivo\n",
        "- Los inputs de cada llamado recursivo se repien\n",
        "- En vez de calcular varias veces lo mismo, hacemos un lookup en un diccionario, un array o lo que nos convenga.\n",
        "\n",
        "\n",
        "1. declaro una `memoria`\n",
        "2. Entro a un llamado recursivo\n",
        "3. Me fijo si ya conozco la respuesta\n",
        "  1. Si ya conozco la respuesta, la devuelvo\n",
        "  2. Si no la conozco, la computo recursivamente\n",
        "4. Finalmente obtengo una respuesta\n",
        "5. Guardo esa respuesta\n",
        "6. Devuelvo."
      ]
    },
    {
      "cell_type": "markdown",
      "metadata": {
        "id": "30sEHjwSARIa",
        "colab_type": "text"
      },
      "source": [
        "$$\n",
        "(r, g, b, prev) \\in \\{R, G, B, 3\\} \\in O(3RGB) \\in O(N^3)\n",
        "$$\n",
        "\n",
        "donde $n= max(R, G, B)$\n",
        "\n"
      ]
    }
  ]
}