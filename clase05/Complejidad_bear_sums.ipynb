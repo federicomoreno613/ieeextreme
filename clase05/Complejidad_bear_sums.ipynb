{
  "nbformat": 4,
  "nbformat_minor": 0,
  "metadata": {
    "colab": {
      "name": "Complejidad bear sums.ipynb",
      "provenance": []
    },
    "kernelspec": {
      "name": "python3",
      "display_name": "Python 3"
    }
  },
  "cells": [
    {
      "cell_type": "markdown",
      "metadata": {
        "id": "wyHvPXfjEwaS",
        "colab_type": "text"
      },
      "source": [
        "# Bear sums: Analisis de complejidad temporal\n",
        "\n",
        "Como primera activiadad, vamos a usar las técnicas de complejidad para analizar dos algoritmos de [bear sums](https://csacademy.com/ieeextreme-practice/task/bear-sums/).\n"
      ]
    },
    {
      "cell_type": "markdown",
      "metadata": {
        "id": "1FIGHMIIE-C2",
        "colab_type": "text"
      },
      "source": [
        "## Solución naive\n",
        "\n",
        "```\n",
        "l = [...] # Nuestra input\n",
        "n = len(l)\n",
        "\n",
        "for i in range(n):\n",
        "    for j in range(i + 1, n):\n",
        "        if l[i] + l[j] == s:\n",
        "            return (l[i], l[j])\n",
        "\n",
        "return \"!OK\" \n",
        "```\n",
        "\n",
        "## Solución eficiente\n",
        "\n",
        "```\n",
        "def buscar_solucion(S, L):\n",
        "    sol = None\n",
        "    \n",
        "    buscados = set()\n",
        "    for x in L:\n",
        "        if x in buscados:\n",
        "            sol = (x, S-x)\n",
        "            break\n",
        "        else:\n",
        "            buscados.add(S-x)\n",
        "    \n",
        "    return sol\n",
        "```"
      ]
    },
    {
      "cell_type": "code",
      "metadata": {
        "id": "oif2wk-bv9n7",
        "colab_type": "code",
        "colab": {}
      },
      "source": [
        "l = [...] # Nuestra input de n elementos\n",
        "n = len(l)\n",
        " \n",
        "# O(N**2)\n",
        "for i in range(n): # n *...\n",
        "    for j in range(i + 1, n):  # n * ...\n",
        "        if l[i] + l[j] == s: # O(1) *\n",
        "            return (l[i], l[j]) # O(1)\n",
        " \n",
        "return \"!OK\" "
      ],
      "execution_count": null,
      "outputs": []
    },
    {
      "cell_type": "code",
      "metadata": {
        "id": "NkNtsy1Sv-tl",
        "colab_type": "code",
        "colab": {}
      },
      "source": [
        "sol = None\n",
        "\n",
        "# O(N)\n",
        "buscados = set()\n",
        "for x in L: # O(N) * O(1)\n",
        "    if x in buscados: # O(1) * O(1)\n",
        "        sol = (x, S-x) # O(1)\n",
        "        break\n",
        "    else:\n",
        "        buscados.add(S-x) # O(1)\n",
        "\n",
        "return sol"
      ],
      "execution_count": null,
      "outputs": []
    },
    {
      "cell_type": "markdown",
      "metadata": {
        "id": "eNSQLLIjzgtA",
        "colab_type": "text"
      },
      "source": [
        "- Algoritmo naive $O(N^2)$\n",
        "- Algoritmo \"eficiente\" $O(N)$\n"
      ]
    }
  ]
}