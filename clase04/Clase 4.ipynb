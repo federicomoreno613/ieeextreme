{
 "cells": [
  {
   "cell_type": "markdown",
   "metadata": {},
   "source": [
    "# Estrategias de resolución de problemas\n",
    "- Recursion\n",
    "- \"Greedy\"\n",
    "- Programacion Dinamica\n",
    "- Dividir y Conquistar\n",
    "\n",
    "## Recursión\n",
    "\n",
    "### Definición\n",
    "Se dice que algo es recursivo cuando esta definido en terminos de si mismo.\n",
    "\n",
    "Las definiciones recursivas siempre tienen un _caso base_ y un _caso recursivo_.\n",
    "\n",
    "La instancia del problema siempre se achica\n",
    "\n",
    "### Ejemplos"
   ]
  },
  {
   "cell_type": "markdown",
   "metadata": {},
   "source": [
    "#### Longitud de una lista\n",
    "- La longitud de una lista vacia `[]` es 0.\n",
    "- La longitud de una lista con $n$ elementos es `1 + ` \"la longitud de una lista de $n-1$ elementos. "
   ]
  },
  {
   "cell_type": "code",
   "execution_count": 8,
   "metadata": {},
   "outputs": [],
   "source": [
    "def length(l):\n",
    "    print(f\"list: {l}\")\n",
    "    if l == []:\n",
    "        return 0\n",
    "    else:\n",
    "        return 1 + length(l[1:])"
   ]
  },
  {
   "cell_type": "code",
   "execution_count": 9,
   "metadata": {},
   "outputs": [
    {
     "name": "stdout",
     "output_type": "stream",
     "text": [
      "list: []\n"
     ]
    },
    {
     "data": {
      "text/plain": [
       "0"
      ]
     },
     "execution_count": 9,
     "metadata": {},
     "output_type": "execute_result"
    }
   ],
   "source": [
    "length([])"
   ]
  },
  {
   "cell_type": "code",
   "execution_count": 10,
   "metadata": {},
   "outputs": [
    {
     "name": "stdout",
     "output_type": "stream",
     "text": [
      "list: [1, 2, 3]\n",
      "list: [2, 3]\n",
      "list: [3]\n",
      "list: []\n"
     ]
    },
    {
     "data": {
      "text/plain": [
       "3"
      ]
     },
     "execution_count": 10,
     "metadata": {},
     "output_type": "execute_result"
    }
   ],
   "source": [
    "length([1,2,3])"
   ]
  },
  {
   "cell_type": "markdown",
   "metadata": {},
   "source": [
    "#### Factorial\n",
    "\n",
    "$$\n",
    "0! = 1;\n",
    "$$\n",
    "\n",
    "$$\n",
    "n! = n * (n-1)!\n",
    "$$\n",
    "\n",
    "$$\n",
    "3! = 3 * 2! = 3 * 2 * 1! = 3 * 2 * 1 * 0! = 3 * 2 * 1 * 1 = 6\n",
    "$$"
   ]
  },
  {
   "cell_type": "code",
   "execution_count": 17,
   "metadata": {},
   "outputs": [],
   "source": [
    "def factorial(n):\n",
    "    print(f\"n: {n}\")\n",
    "    if n == 0:\n",
    "        return 1\n",
    "    else:\n",
    "        return n * factorial(n-1)"
   ]
  },
  {
   "cell_type": "code",
   "execution_count": 18,
   "metadata": {},
   "outputs": [
    {
     "name": "stdout",
     "output_type": "stream",
     "text": [
      "n: 0\n"
     ]
    },
    {
     "data": {
      "text/plain": [
       "1"
      ]
     },
     "execution_count": 18,
     "metadata": {},
     "output_type": "execute_result"
    }
   ],
   "source": [
    "factorial(0)"
   ]
  },
  {
   "cell_type": "code",
   "execution_count": 19,
   "metadata": {},
   "outputs": [
    {
     "name": "stdout",
     "output_type": "stream",
     "text": [
      "n: 3\n",
      "n: 2\n",
      "n: 1\n",
      "n: 0\n"
     ]
    },
    {
     "data": {
      "text/plain": [
       "6"
      ]
     },
     "execution_count": 19,
     "metadata": {},
     "output_type": "execute_result"
    }
   ],
   "source": [
    "factorial(3)"
   ]
  },
  {
   "cell_type": "markdown",
   "metadata": {},
   "source": [
    "#### Fibonacci\n",
    "\n",
    "$$ f(0) = 1 $$\n",
    "$$ f(1) = 1 $$\n",
    "$$ f(n) = f(n-1) + f(n-2) $$\n",
    "\n",
    "$$1, 1, 2, 3, 5, 8, 13, 21, 55, ...$$"
   ]
  },
  {
   "cell_type": "code",
   "execution_count": 13,
   "metadata": {},
   "outputs": [],
   "source": [
    "def fibonacci(n):\n",
    "    print(f\"n: {n}\")\n",
    "    if n == 0:\n",
    "        return 1\n",
    "    elif n == 1:\n",
    "        return 1\n",
    "    else:\n",
    "        return fibonacci(n-1) + fibonacci(n-2)"
   ]
  },
  {
   "cell_type": "code",
   "execution_count": 20,
   "metadata": {},
   "outputs": [
    {
     "name": "stdout",
     "output_type": "stream",
     "text": [
      "n: 0\n"
     ]
    },
    {
     "data": {
      "text/plain": [
       "1"
      ]
     },
     "execution_count": 20,
     "metadata": {},
     "output_type": "execute_result"
    }
   ],
   "source": [
    "fibonacci(0)"
   ]
  },
  {
   "cell_type": "code",
   "execution_count": 21,
   "metadata": {},
   "outputs": [
    {
     "name": "stdout",
     "output_type": "stream",
     "text": [
      "n: 1\n"
     ]
    },
    {
     "data": {
      "text/plain": [
       "1"
      ]
     },
     "execution_count": 21,
     "metadata": {},
     "output_type": "execute_result"
    }
   ],
   "source": [
    "fibonacci(1)"
   ]
  },
  {
   "cell_type": "code",
   "execution_count": 22,
   "metadata": {},
   "outputs": [
    {
     "name": "stdout",
     "output_type": "stream",
     "text": [
      "n: 2\n",
      "n: 1\n",
      "n: 0\n"
     ]
    },
    {
     "data": {
      "text/plain": [
       "2"
      ]
     },
     "execution_count": 22,
     "metadata": {},
     "output_type": "execute_result"
    }
   ],
   "source": [
    "fibonacci(2)"
   ]
  },
  {
   "cell_type": "code",
   "execution_count": 16,
   "metadata": {},
   "outputs": [
    {
     "name": "stdout",
     "output_type": "stream",
     "text": [
      "n: 4\n",
      "n: 3\n",
      "n: 2\n",
      "n: 1\n",
      "n: 0\n",
      "n: 1\n",
      "n: 2\n",
      "n: 1\n",
      "n: 0\n"
     ]
    },
    {
     "data": {
      "text/plain": [
       "5"
      ]
     },
     "execution_count": 16,
     "metadata": {},
     "output_type": "execute_result"
    }
   ],
   "source": [
    "fibonacci(4)"
   ]
  },
  {
   "cell_type": "markdown",
   "metadata": {},
   "source": [
    "Como ayuda la recursion como estrategia de resolucion de problemas?\n",
    "\n",
    "Una forma comun de simplificacion es dividir el problema en subproblemas del mismo tipo, pero de menor tamaño. \n"
   ]
  },
  {
   "cell_type": "markdown",
   "metadata": {},
   "source": [
    "# Tiempo de Ejecución\n",
    "\n",
    "### Secuencia\n",
    "\n",
    "### Condicionales\n",
    "\n",
    "### Iteración\n"
   ]
  },
  {
   "cell_type": "markdown",
   "metadata": {},
   "source": [
    "# Recursive String\n",
    "\n",
    "[Link](https://csacademy.com/contest/archive/task/recursive-string/statement/)"
   ]
  },
  {
   "cell_type": "code",
   "execution_count": 2,
   "metadata": {},
   "outputs": [
    {
     "name": "stdout",
     "output_type": "stream",
     "text": [
      "2 1\n",
      "[1, 1, 1]\n",
      "c\n"
     ]
    }
   ],
   "source": [
    "def main():\n",
    "    # Input de usuario\n",
    "    n, k = map(int,input().split())\n",
    "    \n",
    "    # Mantenemos un arreglo inicializado \n",
    "    dp = [1,1,1]\n",
    "    letters = ['a','b','c']\n",
    "    for i in range(n - 2):\n",
    "        dp.append(dp[-1] + dp[-2] + dp[-3])\n",
    "    \n",
    "    if dp[n] < k:\n",
    "        print(-1)\n",
    "        return\n",
    "\n",
    "    print(dp)\n",
    "    while n >= 0:\n",
    "        if n <= 2:\n",
    "            print(letters[n])\n",
    "            return\n",
    "        total = 0\n",
    "        index = -1\n",
    "        for i in range(3):\n",
    "            total += dp[n - i - 1]\n",
    "            if k - total <= 0:\n",
    "                index = i+1\n",
    "                break\n",
    "        \n",
    "        for i in range(index - 1):\n",
    "            k -= dp[n - 1 - i]\n",
    "\n",
    "        # print(n, index,k)            \n",
    "        n = n - index\n",
    "        \n",
    "    \n",
    "main()"
   ]
  },
  {
   "cell_type": "markdown",
   "metadata": {},
   "source": [
    "# Bibliografia y Referencias"
   ]
  }
 ],
 "metadata": {
  "kernelspec": {
   "display_name": "Python 3",
   "language": "python",
   "name": "python3"
  },
  "language_info": {
   "codemirror_mode": {
    "name": "ipython",
    "version": 3
   },
   "file_extension": ".py",
   "mimetype": "text/x-python",
   "name": "python",
   "nbconvert_exporter": "python",
   "pygments_lexer": "ipython3",
   "version": "3.7.6"
  }
 },
 "nbformat": 4,
 "nbformat_minor": 4
}
