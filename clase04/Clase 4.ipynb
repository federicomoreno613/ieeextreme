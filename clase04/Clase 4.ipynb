{
 "cells": [
  {
   "cell_type": "markdown",
   "metadata": {},
   "source": [
    "# Estrategias de resolución de problemas\n",
    "- Recursion\n",
    "- \"Greedy\"\n",
    "- Programacion Dinamica\n",
    "- Dividir y Conquistar\n",
    "\n",
    "## Recursión\n",
    "\n",
    "### Definición\n",
    "Se dice que algo es recursivo cuando esta definido en terminos de si mismo.\n",
    "\n",
    "Las definiciones recursivas siempre tienen un _caso base_ y un _caso recursivo_.\n",
    "\n",
    "La instancia del problema siempre se acerca al caso base.\n",
    "\n",
    "### Ejemplos"
   ]
  },
  {
   "cell_type": "markdown",
   "metadata": {},
   "source": [
    "#### Factorial\n",
    "\n",
    "$$\n",
    "0! = 1;\n",
    "$$\n",
    "\n",
    "$$\n",
    "n! = n * (n-1)!\n",
    "$$\n",
    "\n",
    "$$\n",
    "3! = 3 * 2! = 3 * 2 * 1! = 3 * 2 * 1 * 0! = 3 * 2 * 1 * 1 = 6\n",
    "$$"
   ]
  },
  {
   "cell_type": "code",
   "execution_count": null,
   "metadata": {},
   "outputs": [],
   "source": [
    "def factorial(n):\n",
    "    print(f\"n: {n}\")\n",
    "    if n == 0:\n",
    "        return 1\n",
    "    else:\n",
    "        return n * factorial(n-1)"
   ]
  },
  {
   "cell_type": "code",
   "execution_count": null,
   "metadata": {},
   "outputs": [],
   "source": [
    "factorial(0)"
   ]
  },
  {
   "cell_type": "code",
   "execution_count": null,
   "metadata": {},
   "outputs": [],
   "source": [
    "factorial(3)"
   ]
  },
  {
   "cell_type": "markdown",
   "metadata": {},
   "source": [
    "#### Fibonacci\n",
    "\n",
    "$$ f(0) = 1 $$\n",
    "$$ f(1) = 1 $$\n",
    "$$ f(n) = f(n-1) + f(n-2) $$\n",
    "\n",
    "$$1, 1, 2, 3, 5, 8, 13, 21, 55, ...$$"
   ]
  },
  {
   "cell_type": "code",
   "execution_count": null,
   "metadata": {},
   "outputs": [],
   "source": [
    "def fibonacci(n):\n",
    "    print(f\"n: {n}\")\n",
    "    if n == 0:\n",
    "        return 1\n",
    "    elif n == 1:\n",
    "        return 1\n",
    "    else:\n",
    "        return fibonacci(n-1) + fibonacci(n-2)"
   ]
  },
  {
   "cell_type": "code",
   "execution_count": null,
   "metadata": {},
   "outputs": [],
   "source": [
    "fibonacci(0)"
   ]
  },
  {
   "cell_type": "code",
   "execution_count": null,
   "metadata": {},
   "outputs": [],
   "source": [
    "fibonacci(1)"
   ]
  },
  {
   "cell_type": "code",
   "execution_count": null,
   "metadata": {},
   "outputs": [],
   "source": [
    "fibonacci(2)"
   ]
  },
  {
   "cell_type": "code",
   "execution_count": null,
   "metadata": {},
   "outputs": [],
   "source": [
    "fibonacci(4)"
   ]
  },
  {
   "cell_type": "markdown",
   "metadata": {},
   "source": [
    "#### Longitud de una lista\n",
    "- La longitud de una lista vacia `[]` es 0.\n",
    "- La longitud de una lista con $n$ elementos es `1 + ` \"la longitud de una lista de $n-1$ elementos. "
   ]
  },
  {
   "cell_type": "code",
   "execution_count": null,
   "metadata": {},
   "outputs": [],
   "source": [
    "def length(l):\n",
    "    print(f\"list: {l}\")\n",
    "    if l == []:\n",
    "        return 0\n",
    "    else:\n",
    "        return 1 + length(l[1:])"
   ]
  },
  {
   "cell_type": "code",
   "execution_count": null,
   "metadata": {
    "scrolled": true
   },
   "outputs": [],
   "source": [
    "length([])"
   ]
  },
  {
   "cell_type": "code",
   "execution_count": null,
   "metadata": {},
   "outputs": [],
   "source": [
    "length([1,2,3])"
   ]
  },
  {
   "cell_type": "markdown",
   "metadata": {},
   "source": [
    "# Recursive String\n",
    "\n",
    "[Link](https://csacademy.com/contest/archive/task/recursive-string/statement/)"
   ]
  },
  {
   "cell_type": "code",
   "execution_count": null,
   "metadata": {},
   "outputs": [],
   "source": [
    "N, K = [int(x) for x in input().split(' ')]\n",
    "def f(N):\n",
    "    if N < 3:\n",
    "        return 'abc'[N]\n",
    "    else:\n",
    "        f_N_prev_prev = 'b'\n",
    "        f_N_prev = 'c'\n",
    "        f_N = 'cba'\n",
    "        for N in range(3, N):\n",
    "            f_N, f_N_prev, f_N_prev_prev = f_N + f_N_prev + f_N_prev_prev, f_N, f_N_prev\n",
    "        return f_N"
   ]
  },
  {
   "cell_type": "code",
   "execution_count": null,
   "metadata": {},
   "outputs": [],
   "source": [
    "f_N = f(N)\n",
    "if len(f_N) < K:\n",
    "    print(\"-1\")\n",
    "else:\n",
    "    print(f(N)[K-1])\n",
    "    \n",
    "def recursive_string_recursive(N):\n",
    "    f(N)"
   ]
  },
  {
   "cell_type": "code",
   "execution_count": null,
   "metadata": {},
   "outputs": [],
   "source": [
    "def recursive_string_iterative():\n",
    "    # Input de usuario\n",
    "    n, k = map(int,input().split())\n",
    "\n",
    "    dp = [1,1,1]\n",
    "    letters = ['a','b','c']\n",
    "    for i in range(n - 2):\n",
    "        dp.append(dp[-1] + dp[-2] + dp[-3])\n",
    "    \n",
    "    if dp[n] < k:\n",
    "        print(-1)\n",
    "        return\n",
    "\n",
    "    print(dp)\n",
    "    while n >= 0:\n",
    "        if n <= 2:\n",
    "            print(letters[n])\n",
    "            return\n",
    "        total = 0\n",
    "        index = -1\n",
    "        for i in range(3):\n",
    "            total += dp[n - i - 1]\n",
    "            if k - total <= 0:\n",
    "                index = i+1\n",
    "                break\n",
    "        \n",
    "        for i in range(index - 1):\n",
    "            k -= dp[n - 1 - i]\n",
    "\n",
    "        # print(n, index,k)            \n",
    "        n = n - index"
   ]
  },
  {
   "cell_type": "code",
   "execution_count": null,
   "metadata": {},
   "outputs": [],
   "source": [
    "recursive_string_iterative()"
   ]
  },
  {
   "cell_type": "markdown",
   "metadata": {},
   "source": [
    "### Conclusiones\n",
    "\n",
    "Como ayuda la recursion como estrategia de resolucion de problemas?\n",
    "\n",
    "Una forma comun de simplificacion es dividir el problema en subproblemas del mismo tipo, pero de menor tamaño. A eso t se le llama \"dividir y conquistar\".\n",
    "\n",
    "La recursion es especialmente util tambien para tratar problemas cuyas soluciones involucran estructuras de datos recursivas, como los arboles.\n",
    "\n",
    "### Iteración vs Recursión\n",
    "\n",
    "La recursion inherente al problema, y la recursion en la solucion son dos cosas distintas.\n",
    " \n",
    "Se puede implementar una solucion recursiva a un problema que no la involucra en su defincion, asi como tambien encontrar una solucion iterativa a un problema recursivo.\n",
    "\n",
    "El \"ahicar el problema\" y subsiguiente uso de la solucion al subproblema se puede hacer adentro de un bucle.\n",
    "\n",
    "### Eliminacion de la recursión\n",
    "\n",
    "La \"traduccion\" de una version recursiva a una iterativa no siempre es facil, pero en determinados casos se puede hacer mecanicamente. \n",
    "\n",
    "Muchos compiladores hacen uso de estas tecnicas mecanicas para convertir llamadas recursivas en un simple bucle.\n",
    "El caso mas sencillo es cuando no queda \"trabajo por hacer\" despues de la llamada recursiva. A esto se le llama Tail Call Optimization.\n",
    "\n",
    "Python, en particular, no ofrece esta optimizacion. Por esta razon usar recursion tiene un costo oculto. "
   ]
  },
  {
   "cell_type": "markdown",
   "metadata": {},
   "source": [
    "# Tiempo de Ejecución\n",
    " \n",
    "## Definicion\n",
    "\n",
    "Dado un algoritmo $A$, el _tiempo de ejecución_ $t_{A}(n)$ de $A$ es la cantidad de pasos, operaciones o acciones elementales que debe realizar el algoritmo al ser ejecutado en una instancia de tamaño n\n",
    "\n",
    "El _espacio_ $e_{A}(n)$ de $A$ es la cantidad de datos elementales que el algoritmo necesita al ser ejecutado en una instancia de tamaño $n$, sin contar la representación de la entrada ni de la salida.\n",
    "\n",
    "## Notacion asintótica\n",
    "\n",
    "Estas definiciones son un tanto ambiguas.\n",
    "\n",
    "Por eso, se suele hacer uso del concepto de crecimiento asintótico. \n",
    "\n",
    "![Asintota](asintota.gif)\n",
    "\n",
    "Se denomina asintótica porque analiza el comportamiento de las funciones en el límite, es decir su tasa de crecimiento\n",
    "\n",
    "Lo que nos interesa es el comportamiento de nuestro programa a medida que el tamaño de la entrada aumenta.\n",
    "\n",
    "Se considerará entonces que un algoritmo es más eficiente que otro para resolver el mismo problema si su tiempo de ejecución (o espacio) en el peor caso tiene un crecimiento menor.\n",
    "\n",
    "Se dice que un programa tiene un tiempo de ejecucion de $O(f(n))$ si la funcion que describe el tiempo que tarda en ejecutar en funcion de su entrada esta acotada superiormente por una funcion constante.\n",
    "\n",
    "- **orden constante**\n",
    "- **orden lineal**\n",
    "- **orden polinomico**\n",
    "\n",
    "\n",
    "## Analisis por estructuras de control\n",
    "\n",
    "### Secuencia\n",
    "\n",
    "```\n",
    "Algoritmo A\n",
    "  P1\n",
    "  P2\n",
    "```\n",
    "Sea $t_{A}(n)$ la cantidad de recursos a analizar.\n",
    "\n",
    "Si P1 insume $O(f_{1}(n))$ recursos y P2 insume $O(f_{2}(n))$ recursos, entonces\n",
    "\n",
    "$$t_{A}(n) = O(max(f_{1}(n), f_{2}(n)))$$\n",
    "\n",
    "### Condicionales\n",
    "\n",
    "```\n",
    "Algoritmo  A\n",
    "  IF (X)\n",
    "    P1 \n",
    "  ELSE\n",
    "    P2 \n",
    "```\n",
    "El tiempo en el peor de los casos es \n",
    "\n",
    "$$t_{A}(n) = O(max(t_{X}(n), t_{P1}(n), t_{P2}(n)))$$\n",
    "\n",
    "### Iteración\n",
    "\n",
    "```\n",
    "Algoritmo B\n",
    "  FOR i = 1 TO m\n",
    "    P(i)\n",
    "```\n",
    "\n",
    "Sean $c1$, $c2$, $c3$ los costos de las operaciones elementales.\n",
    "\n",
    "Si $P(i)$ insume $t$ recursos (no depende de i ni de m) entonces\n",
    "\n",
    "$$t_{B}(n) = (c2 + c3 + t)m + (c1 + c3 ) ∈ O(mt)$$"
   ]
  },
  {
   "cell_type": "code",
   "execution_count": null,
   "metadata": {},
   "outputs": [],
   "source": []
  },
  {
   "cell_type": "markdown",
   "metadata": {},
   "source": [
    "## Ejemplo: Ordenamiento por Insercion"
   ]
  },
  {
   "cell_type": "code",
   "execution_count": null,
   "metadata": {},
   "outputs": [],
   "source": [
    "def insertion_sort(a): \n",
    "    # Recorremos de 1 hasta len(a) \n",
    "    for i in range(1, len(a)):                         # (1)\n",
    "        k = a[i]                                       # (2)\n",
    "        # Movemos los elementos del arreglo a[0..i-1]\n",
    "        # que son mayores que k a un lugar que este \n",
    "        # una posicion mas adelante que su posicion \n",
    "        # actual\n",
    "        j = i - 1                                      # (3)\n",
    "        while j >=0 and k < a[j] :                     # (4)\n",
    "            a[j + 1] = a[j]                            # (5)\n",
    "            j -= 1                                     # (6)\n",
    "        a[j + 1] = k                                   # (7)"
   ]
  },
  {
   "cell_type": "code",
   "execution_count": null,
   "metadata": {},
   "outputs": [],
   "source": [
    "a = []\n",
    "insertion_sort(a)\n",
    "print(f\"a: {a}\")"
   ]
  },
  {
   "cell_type": "code",
   "execution_count": null,
   "metadata": {},
   "outputs": [],
   "source": [
    "a = [1]\n",
    "insertion_sort(a)\n",
    "print(f\"a: {a}\")"
   ]
  },
  {
   "cell_type": "code",
   "execution_count": null,
   "metadata": {},
   "outputs": [],
   "source": [
    "a = [12, 11, 13, 5, 6] \n",
    "insertion_sort(a) \n",
    "print(f\"a: {a}\") "
   ]
  },
  {
   "cell_type": "markdown",
   "metadata": {},
   "source": [
    "- Cuantas veces se ejecuta el cuerpo del for externo?\n",
    "- cuantas veces se ejecuta "
   ]
  },
  {
   "cell_type": "markdown",
   "metadata": {},
   "source": [
    "# Bibliografia y Referencias"
   ]
  }
 ],
 "metadata": {
  "kernelspec": {
   "display_name": "Python 3",
   "language": "python",
   "name": "python3"
  },
  "language_info": {
   "codemirror_mode": {
    "name": "ipython",
    "version": 3
   },
   "file_extension": ".py",
   "mimetype": "text/x-python",
   "name": "python",
   "nbconvert_exporter": "python",
   "pygments_lexer": "ipython3",
   "version": "3.7.6"
  }
 },
 "nbformat": 4,
 "nbformat_minor": 4
}
