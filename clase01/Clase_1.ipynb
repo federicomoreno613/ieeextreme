{
  "nbformat": 4,
  "nbformat_minor": 0,
  "metadata": {
    "colab": {
      "name": "Clase 1.ipynb",
      "provenance": [],
      "collapsed_sections": []
    },
    "kernelspec": {
      "name": "python3",
      "display_name": "Python 3"
    }
  },
  "cells": [
    {
      "cell_type": "markdown",
      "metadata": {
        "id": "7lz6Yx7OGX0p",
        "colab_type": "text"
      },
      "source": [
        "# El Jupyter Notebook\n",
        "\n",
        "El documento que estamos usando es un .ipynb, o Jupyter Notebook.\n",
        "\n",
        "El documento está en modo lectura. Podés hacer una copia y guardarla en tu propio Drive, y así editar el código.\n",
        "\n",
        "Al apretar el botón de \"play\" que aparece al posarse en una celda de código, podés ejecutar esa celda, y el output aparecerá abajo.\n",
        "\n",
        "Por ejemplo, podemos ver el output de imprimir la frase \"hola, mundo!\":"
      ]
    },
    {
      "cell_type": "code",
      "metadata": {
        "id": "YR-fWE3MGT7s",
        "colab_type": "code",
        "colab": {
          "base_uri": "https://localhost:8080/",
          "height": 35
        },
        "outputId": "76564a0f-f0f1-4df3-a2a6-a7d8a390711e"
      },
      "source": [
        "print('Hola, mundo!')"
      ],
      "execution_count": null,
      "outputs": [
        {
          "output_type": "stream",
          "text": [
            "Hola, mundo!\n"
          ],
          "name": "stdout"
        }
      ]
    },
    {
      "cell_type": "markdown",
      "metadata": {
        "id": "QPprpq0IFWqE",
        "colab_type": "text"
      },
      "source": [
        "# Tipos de datos"
      ]
    },
    {
      "cell_type": "code",
      "metadata": {
        "id": "RpheZ0ZhFgXz",
        "colab_type": "code",
        "colab": {}
      },
      "source": [
        "mi_nombre = 'Laura'\n",
        "mi_edad = 27\n",
        "mi_altura_en_mts = 1.64"
      ],
      "execution_count": null,
      "outputs": []
    },
    {
      "cell_type": "markdown",
      "metadata": {
        "id": "CGpxtA8WGB_S",
        "colab_type": "text"
      },
      "source": [
        "**Notas:**\n",
        "\n",
        "- mi_nombre, mi_edad y mi_altura_en_mts son variables\n",
        "\n",
        "- Podemos conocer el tipo de dato que guarda cada variable usando la función type()\n"
      ]
    },
    {
      "cell_type": "code",
      "metadata": {
        "id": "dYMD1YFJGAoL",
        "colab_type": "code",
        "colab": {
          "base_uri": "https://localhost:8080/",
          "height": 70
        },
        "outputId": "54972fdb-69f2-4479-8117-ffcd7df474ea"
      },
      "source": [
        "print(type(mi_nombre))\n",
        "print(type(mi_edad))\n",
        "print(type(mi_altura_en_mts))"
      ],
      "execution_count": null,
      "outputs": [
        {
          "output_type": "stream",
          "text": [
            "<class 'str'>\n",
            "<class 'int'>\n",
            "<class 'float'>\n"
          ],
          "name": "stdout"
        }
      ]
    },
    {
      "cell_type": "markdown",
      "metadata": {
        "id": "Ff_I_4GxHMKr",
        "colab_type": "text"
      },
      "source": [
        "Vemos que:\n",
        "\n",
        "- 'Laura' es una _string_\n",
        "\n",
        "- 27 es un _integer_\n",
        "\n",
        "- 1.64 es un _float_\n",
        "\n",
        "\n",
        "Los integers y floats son tipos numéricos, enteros y racionales respectivamente, mientras que los strings se usan para texto.\n",
        "\n",
        "# Operaciones numéricas\n",
        "\n",
        "Podemos hacer operaciones matemáticas con integers y floats"
      ]
    },
    {
      "cell_type": "code",
      "metadata": {
        "id": "7IKsXsHUHDBa",
        "colab_type": "code",
        "colab": {
          "base_uri": "https://localhost:8080/",
          "height": 88
        },
        "outputId": "f550dd4e-07ac-424d-bbf7-854697b0a70f"
      },
      "source": [
        "a = 3\n",
        "b = 2\n",
        "\n",
        "sum = a + b\n",
        "\n",
        "sub = a - b\n",
        "\n",
        "mult = a * b\n",
        "\n",
        "div = a / b\n",
        "\n",
        "mod = a % b\n",
        "\n",
        "exp = a ** b\n",
        "\n",
        "# Imprimí las variables sum, sub, mult, div, mod y exp para ver el resultado\n",
        "print(sum)\n",
        "print(exp)\n",
        "\n",
        "# Imprimí el tipo de la variable sum\n",
        "\n",
        "print(type(sum))\n",
        "\n",
        "# Podemos volver a declarar una variable asignándole otro valor:\n",
        "\n",
        "b = 2.0\n",
        "\n",
        "sum = a + b\n",
        "\n",
        "# Volvé a imprimir el tipo de sum y observá qué pasa luego de haber cambiado el tipo de la variable b\n",
        "\n",
        "print(type(sum))"
      ],
      "execution_count": null,
      "outputs": [
        {
          "output_type": "stream",
          "text": [
            "5\n",
            "9\n",
            "<class 'int'>\n",
            "<class 'float'>\n"
          ],
          "name": "stdout"
        }
      ]
    },
    {
      "cell_type": "markdown",
      "metadata": {
        "id": "aKxSHkVcIXbT",
        "colab_type": "text"
      },
      "source": [
        "Las líneas de texto antecedidas por el símbolo # se llaman comentarios, Python las \"saltea\" y no las ejecuta.\n",
        "\n",
        "Vimos cómo sumar, restar, multiplicar, dividir y encontrar el resto usando módulo.\n",
        "\n",
        "Falta la raíz!\n",
        "\n",
        "Para hallar la raíz de un número, tenemos que usar una función de la librería math\n"
      ]
    },
    {
      "cell_type": "code",
      "metadata": {
        "id": "q8Nw3XahH0wf",
        "colab_type": "code",
        "colab": {
          "base_uri": "https://localhost:8080/",
          "height": 35
        },
        "outputId": "5ee47030-bb0f-498e-acda-668c87601974"
      },
      "source": [
        "from math import sqrt\n",
        "\n",
        "square_root = sqrt(27)\n",
        "\n",
        "print(square_root)"
      ],
      "execution_count": null,
      "outputs": [
        {
          "output_type": "stream",
          "text": [
            "5.196152422706632\n"
          ],
          "name": "stdout"
        }
      ]
    },
    {
      "cell_type": "markdown",
      "metadata": {
        "id": "JoUwPv1pKN22",
        "colab_type": "text"
      },
      "source": [
        "# Booleanos\n",
        "\n",
        "Hay otro tipo de dato, además de strings, integers y floats, que se llama booleano. \n",
        "\n",
        "Puede tomar solo dos valores: True o False, y sirve para hacer compuertas lógicas."
      ]
    },
    {
      "cell_type": "code",
      "metadata": {
        "id": "CKdExjeJKOHW",
        "colab_type": "code",
        "colab": {
          "base_uri": "https://localhost:8080/",
          "height": 52
        },
        "outputId": "23050388-ac81-4e35-9f96-722d2239e36c"
      },
      "source": [
        "x = True\n",
        "y = False\n",
        "\n",
        "print(type(x))\n",
        "print(type(y))"
      ],
      "execution_count": null,
      "outputs": [
        {
          "output_type": "stream",
          "text": [
            "<class 'bool'>\n",
            "<class 'bool'>\n"
          ],
          "name": "stdout"
        }
      ]
    },
    {
      "cell_type": "markdown",
      "metadata": {
        "id": "dI4glJ0zKJTQ",
        "colab_type": "text"
      },
      "source": [
        "Si hacemos una comparación entre valores, Python nos devolverá un booleano indicando si la comparación es verdadera o falsa.\n",
        "\n",
        "El doble signo de igualdad (==) nos permite comparar si dos valores son iguales"
      ]
    },
    {
      "cell_type": "code",
      "metadata": {
        "id": "-HOaFeE-KL7U",
        "colab_type": "code",
        "colab": {
          "base_uri": "https://localhost:8080/",
          "height": 87
        },
        "outputId": "951007f5-8674-4f5b-ef7c-69b45760fd54"
      },
      "source": [
        "bool_1 = 4 == 5 # De esta manera chequeamos si 4 es igual a 5\n",
        "\n",
        "bool_2 = 'vaca' == 'vaca'\n",
        "\n",
        "bool_3 = 'camello' == 'Camello'\n",
        "\n",
        "bool_4 = 1 + 1 == 3\n",
        "\n",
        "print(bool_1)\n",
        "print(bool_2)\n",
        "print(bool_3)\n",
        "print(bool_4)"
      ],
      "execution_count": null,
      "outputs": [
        {
          "output_type": "stream",
          "text": [
            "False\n",
            "True\n",
            "False\n",
            "False\n"
          ],
          "name": "stdout"
        }
      ]
    },
    {
      "cell_type": "markdown",
      "metadata": {
        "id": "PtlZZR6qPFDO",
        "colab_type": "text"
      },
      "source": [
        "La lista completa de operadores es:\n",
        "\n",
        "- Mayor `a > b`\n",
        "\n",
        "- mayor o igual `a >= b` \n",
        "\n",
        "- menor `a < b`\n",
        "\n",
        "- menor o igual `a <= b` \n",
        "\n",
        "- igual `a == b`\n",
        "\n",
        "- diferente `a != b`"
      ]
    },
    {
      "cell_type": "markdown",
      "metadata": {
        "id": "WnZjvpNnTgf1",
        "colab_type": "text"
      },
      "source": [
        "## Y esto para qué sirve?\n",
        "\n"
      ]
    },
    {
      "cell_type": "code",
      "metadata": {
        "id": "hnEK6ao41vln",
        "colab_type": "code",
        "colab": {
          "base_uri": "https://localhost:8080/",
          "height": 35
        },
        "outputId": "d1a6d362-f0e9-4141-8b84-474c607df368"
      },
      "source": [
        "# Esta parte por ahora no es importante entender cómo funciona\n",
        "# Estamos importando funciones de librerías de Python que nos sirven para saber \n",
        "# en qué fecha y día de la semana estamos\n",
        "from datetime import date\n",
        "import calendar\n",
        "my_date = date.today()\n",
        "day = calendar.day_name[my_date.weekday()] \n",
        "\n",
        "# Observen los chequeos de igualdad que se hacen en las siguientes líneas\n",
        "\n",
        "if day == 'Friday':\n",
        "  print('Thank god it\\'s Friday!') \n",
        "elif day == 'Saturday' or day == 'Sunday': \n",
        "  print('Weekend! Yay!') \n",
        "else: \n",
        "  print('Just a regular day')"
      ],
      "execution_count": null,
      "outputs": [
        {
          "output_type": "stream",
          "text": [
            "Thank god it's Friday!\n"
          ],
          "name": "stdout"
        }
      ]
    },
    {
      "cell_type": "code",
      "metadata": {
        "id": "mfo2hSQi4jCa",
        "colab_type": "code",
        "colab": {
          "base_uri": "https://localhost:8080/",
          "height": 35
        },
        "outputId": "edad802c-b6a8-48dd-e5bd-b4ff44ee6015"
      },
      "source": [
        "# Veamos cómo funciona. Estamos chequeando cuál de estas condiciones es True\n",
        "\n",
        "if day == 'Friday': # Si esta igualdad es True...\n",
        "  print('Thank god it\\'s Friday!') # vamos a imprimir esto\n",
        "elif day == 'Saturday' or day == 'Sunday': # Solo si lo anterior no es True, nos fijamos si esto es True...\n",
        "  print('Weekend! Yay!') # y si lo es, imprimimos esto\n",
        "elif day == 'Monday':\n",
        "  print('Oh no!')\n",
        "else: # Si ninguna de las cosas anteriores es True...\n",
        "  print('Just a regular day') # Imprimimos esto"
      ],
      "execution_count": null,
      "outputs": [
        {
          "output_type": "stream",
          "text": [
            "Thank god it's Friday!\n"
          ],
          "name": "stdout"
        }
      ]
    },
    {
      "cell_type": "markdown",
      "metadata": {
        "id": "dHBXbHRn1wlv",
        "colab_type": "text"
      },
      "source": [
        "# Condicionales: if, elif, else\n",
        "\n",
        "Como vimos en la celda anterior, los condicionales `if`, `elif` y `else` nos permiten ejecutar diferentes líneas de código dependiendo de si una condición previa es cierta (`True`) o no (`False`).\n",
        "\n",
        "Esta es la utilidad de los booleanos!\n",
        "\n",
        "`if`, `elif` y `else`, siempre se dan en este orden.\n",
        "Solamente se ejecuta uno de ellos, el primero que sea True. Si uno resulta True, Python lo ejecuta y no evalúa las siguientes condiciones.\n",
        "\n",
        "Empieza por el `if`, y luego los `elif` (que significa \"else if\") en orden descendente. Si ninguno de ellos es verdadero, el `else` por defecto lo será."
      ]
    },
    {
      "cell_type": "code",
      "metadata": {
        "id": "7q1fI7TfOqPA",
        "colab_type": "code",
        "colab": {
          "base_uri": "https://localhost:8080/",
          "height": 52
        },
        "outputId": "b6ce5814-8476-47ff-efe4-ffb079f88581"
      },
      "source": [
        "# Podemos tener solamente un if \n",
        "\n",
        "power_level = 9001\n",
        "\n",
        "if power_level > 9000:\n",
        "  print('His power level is over nine thousand!')\n",
        "\n",
        "# Si la condición del if es False, no se va a ejecutar nada.\n",
        "\n",
        "# Podemos tener if y elif (tantos elif como queramos) sin else\n",
        "# y de nuevo, si todos son falsos no se va a ejecutar nada\n",
        "\n",
        "edad = 5\n",
        "\n",
        "if edad > 18:\n",
        "  print('Adulto/a')\n",
        "elif edad > 65:\n",
        "  print('Anciano/a')\n",
        "\n",
        "# Podemos combinar diferentes condiciones\n",
        "\n",
        "if day == 'Saturday' or day == 'Sunday': \n",
        "  print('Weekend! Yay!') "
      ],
      "execution_count": null,
      "outputs": [
        {
          "output_type": "stream",
          "text": [
            "His power level is over nine thousand!\n",
            "Never gonna give you up, never gonna let you down\n"
          ],
          "name": "stdout"
        }
      ]
    },
    {
      "cell_type": "markdown",
      "metadata": {
        "id": "-OrknXBtCMuC",
        "colab_type": "text"
      },
      "source": [
        "Recordar:\n",
        "\n",
        "And\n",
        "- True and True = True\n",
        "- True and False = False\n",
        "- False and False = False\n",
        "\n",
        "Or\n",
        "- True or True = True\n",
        "- True or False = True\n",
        "- False or False = False\n",
        "\n",
        "Not\n",
        "- not True = False\n",
        "- not False = True "
      ]
    },
    {
      "cell_type": "code",
      "metadata": {
        "id": "PsbI78VVQLEl",
        "colab_type": "code",
        "colab": {}
      },
      "source": [
        "# Pensá si la siguiente variable va a ser True o False, y printeala para ver el resultado:\n",
        "\n",
        "logic = True and not False or False\n"
      ],
      "execution_count": null,
      "outputs": []
    },
    {
      "cell_type": "code",
      "metadata": {
        "id": "PcaAtvAiTRHe",
        "colab_type": "code",
        "colab": {
          "base_uri": "https://localhost:8080/",
          "height": 88
        },
        "outputId": "91af49c4-de72-4b3a-9aa2-b1005fe492b4"
      },
      "source": [
        "# Observá cómo el siguiente código utiliza los operadores booleanos (and, or) \n",
        "# y los condicionales (if, elif, else)\n",
        "\n",
        "first = input('Ingrese el primer número: ')\n",
        "second = input('Ingrese el segundo número\": ')\n",
        "third = input('Ingrese el tercer número: ')\n",
        "\n",
        "all = first == second and second == third and third == first\n",
        "any = first == second or second == third or third == first\n",
        "\n",
        "if all == True:\n",
        "  print(\"Todos los números son iguales\")\n",
        "elif any == True:\n",
        "  print(\"Hay un par de números iguales\")\n",
        "else:\n",
        "  print(\"Todos los números son diferentes\")"
      ],
      "execution_count": null,
      "outputs": [
        {
          "output_type": "stream",
          "text": [
            "Ingrese el primer número: 1\n",
            "Ingrese el segundo número\": 1\n",
            "Ingrese el tercer número: 1\n",
            "Todos los números son iguales\n"
          ],
          "name": "stdout"
        }
      ]
    },
    {
      "cell_type": "markdown",
      "metadata": {
        "id": "y9FxyJEfc-zX",
        "colab_type": "text"
      },
      "source": [
        "# Ejercicios"
      ]
    },
    {
      "cell_type": "markdown",
      "metadata": {
        "id": "2pTlE9z0c42h",
        "colab_type": "text"
      },
      "source": [
        "# Vaca, vaquillona\n",
        "De acuerdo a [esta tabla](https://drive.google.com/file/d/16GaRc8dFnd6mx29Q57dEXZm4V9UQBya4/view?usp=sharing), escribí un programa que reciba los siguientes datos del animal:\n",
        "- cantidad de dientes\n",
        "- sexo\n",
        "\n",
        "e indique si se trata de un/a:\n",
        "\n",
        "- novillito,\n",
        "- novillo,\n",
        "- toro,\n",
        "- vaquillona o\n",
        "- vaca"
      ]
    },
    {
      "cell_type": "code",
      "metadata": {
        "id": "3-y236OVc-Un",
        "colab_type": "code",
        "colab": {}
      },
      "source": [
        ""
      ],
      "execution_count": null,
      "outputs": []
    },
    {
      "cell_type": "markdown",
      "metadata": {
        "id": "rUt3RnlVlI3X",
        "colab_type": "text"
      },
      "source": [
        "# Puntajes IEEExtreme\n",
        "\n",
        "La competencia IEEExtreme puntúa las respuestas a los ejercicios de la siguiente manera:\n",
        "\n",
        "> 30 points are awarded for correct answers. 70 extra points can be awarded depending on problem “difficulty”. The difficulty of any problem comes from the average points teams scored on it; should many teams solve the same problem, that problem is deemed to be very easy and no additional points will be awarded for that problem. However, if few teams solve a problem the problem will be deemed hard and will be credited with additional points. This scoring schematic makes the competition and your placement within the ranking very dynamic.  Sharing a solution with other teams is strictly prohibited and may result in disqualification.\n",
        "\n",
        "Es decir, si una respuesta es correcta, obtiene 30 puntos, y de 0 a 70 puntos extra dependiendo de cuántos equipos respondieron correctamente.\n",
        "Para este ejercicio, supongamos lo siguiente:\n",
        "- Hay 100 equipos compitiendo.\n",
        "- Si 70 a 100 equipos respondieron correctamente la pregunta, no se dan puntos adicionales.\n",
        "- Si el ejercicio fue respondido correctamente por 1 a 70 grupos, se otorgan puntos extra. Si 1 solo equipo respondió correctamente se dan 70 puntos, y por cada equipo extra que respondió correctamente, se otorga un punto menos. Ej: si 2 equipos respondieron bien, 69 puntos, 3 equipos, 68 puntos. [Esta tabla](https://docs.google.com/spreadsheets/d/11C63rTyPuMjgkK1KXX60UguubqDSgpgy_PMuTWnyNFo/edit#gid=0) muestra la distribución de puntos extra.\n",
        "\n",
        "\n",
        "Escribir un programa que otorgue 0 puntos si la respuesta es incorrecta, y la cantidad correspondiente de puntos si la respuesta es correcta.\n",
        "\n",
        "\n",
        "**Nota:** las puntuaciones de IEEExtreme no funcionan exactamente como el programa que vamos a escribir, desconocemos la función que vincula la cantidad de respuestas correctas con el puntaje extra"
      ]
    },
    {
      "cell_type": "code",
      "metadata": {
        "id": "YGzoEERglNaM",
        "colab_type": "code",
        "colab": {}
      },
      "source": [
        ""
      ],
      "execution_count": null,
      "outputs": []
    },
    {
      "cell_type": "markdown",
      "metadata": {
        "id": "lh4HgW9uA6P3",
        "colab_type": "text"
      },
      "source": [
        "## Año bisiesto\n",
        "\n",
        "Dado un determinado año, el código debe devolver si es bisiesto.\n",
        "\n",
        "En el calendario gregoriano, los años bisiestos ocurren:\n",
        "\n",
        "\n",
        "\n",
        "```\n",
        "en años que son divisible por cuatro\n",
        "  salvo si el año es divisible por 100\n",
        "    salvo si el año es divisible por 400\n",
        "```\n",
        "\n",
        "\n",
        "Por ejemplo, 1997 no es bisiesto, pero 1996 sí. 1900 no es bisiesto, pero 2000 sí."
      ]
    },
    {
      "cell_type": "code",
      "metadata": {
        "id": "XHyL_aGaCtt6",
        "colab_type": "code",
        "colab": {}
      },
      "source": [
        "# Escribí tu código"
      ],
      "execution_count": null,
      "outputs": []
    },
    {
      "cell_type": "markdown",
      "metadata": {
        "id": "veGnpUR-Fg5X",
        "colab_type": "text"
      },
      "source": [
        "\n",
        "## FizzBuzz\n",
        "\n",
        "Escribí un programa que imprima los números del 1 al 100, **pero**: \n",
        "- para los múltiplos de 3, imprima la palabra \"Fizz\" en vez del número.\n",
        "- Para los múltiplos de 5, imprima \"Buzz\" en vez del número.\n",
        "- Para los múltiplos tanto de 3 como de 5, imprima \"FizzBuzz\" en vez del número.\n",
        "\n",
        "Para completar este ejercicio, es útil conocer las funciones [range()](https://www.w3schools.com/python/ref_func_range.asp) y [for](https://www.w3schools.com/python/python_for_loops.asp).[texto del vínculo](https://)"
      ]
    },
    {
      "cell_type": "code",
      "metadata": {
        "id": "EkYZAV6mNDb8",
        "colab_type": "code",
        "colab": {}
      },
      "source": [
        "# Escribí tu código"
      ],
      "execution_count": null,
      "outputs": []
    },
    {
      "cell_type": "markdown",
      "metadata": {
        "id": "Ahf9JEr3NC_J",
        "colab_type": "text"
      },
      "source": [
        "# Juego adivina el número\n",
        "\n",
        "El programa genera un número al azar entre 0 y 100, y lo guarda en la variable num. \n",
        "\n",
        "La persona que juega debe adivinar el número ingresando inputs.\n",
        "\n",
        "- Si el número ingresado es mayor que num, el programa printea \"El número que buscás es más chico!\"\n",
        "\n",
        "- Si el número ingresado es menor a num, el programa printea: \"El número que buscás es más grande!\"\n",
        "\n",
        "- Si el número ingresado es igual a num, el programa printea: \"Adivinaste!\"\n",
        "\n",
        "El jugador tiene 6 turnos para adivinar."
      ]
    },
    {
      "cell_type": "code",
      "metadata": {
        "id": "QtN9dkDnO_lC",
        "colab_type": "code",
        "colab": {
          "base_uri": "https://localhost:8080/",
          "height": 35
        },
        "outputId": "0e2bb82a-cbe0-4fb0-ef43-194843e60c38"
      },
      "source": [
        "from random import randint\n",
        "\n",
        "guesses_taken = 0\n",
        "\n",
        "num = randint(0, 101)\n",
        "\n",
        "while #COMPLETAR :\n",
        "  guess = int(input())\n",
        "  guesses_taken += 1\n",
        "\n",
        "  # Escribí tu código acá"
      ],
      "execution_count": null,
      "outputs": [
        {
          "output_type": "stream",
          "text": [
            "0\n"
          ],
          "name": "stdout"
        }
      ]
    }
  ]
}